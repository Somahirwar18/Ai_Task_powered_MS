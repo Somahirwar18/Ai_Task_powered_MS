{
  "cells": [
    {
      "cell_type": "code",
      "execution_count": 85,
      "metadata": {
        "colab": {
          "base_uri": "https://localhost:8080/",
          "height": 999
        },
        "id": "5Z3mVuFrZwRr",
        "outputId": "5ce7350a-da14-4165-8c2d-b1a38d67b17b"
      },
      "outputs": [],
      "source": [
        "import pandas as pd"
      ]
    },
    {
      "cell_type": "code",
      "execution_count": 86,
      "metadata": {},
      "outputs": [],
      "source": [
        "df = pd.read_csv('jira_t_Copy.csv')"
      ]
    },
    {
      "cell_type": "code",
      "execution_count": 88,
      "metadata": {
        "colab": {
          "base_uri": "https://localhost:8080/",
          "height": 434
        },
        "id": "gN6_NhnYZ0_i",
        "outputId": "64d48453-937b-42ab-f94e-f80983665cfb"
      },
      "outputs": [
        {
          "data": {
            "text/html": [
              "<div>\n",
              "<style scoped>\n",
              "    .dataframe tbody tr th:only-of-type {\n",
              "        vertical-align: middle;\n",
              "    }\n",
              "\n",
              "    .dataframe tbody tr th {\n",
              "        vertical-align: top;\n",
              "    }\n",
              "\n",
              "    .dataframe thead th {\n",
              "        text-align: right;\n",
              "    }\n",
              "</style>\n",
              "<table border=\"1\" class=\"dataframe\">\n",
              "  <thead>\n",
              "    <tr style=\"text-align: right;\">\n",
              "      <th></th>\n",
              "      <th>clean_summary</th>\n",
              "      <th>clean_issue_type</th>\n",
              "      <th>clean_status</th>\n",
              "      <th>clean_project_name</th>\n",
              "      <th>clean_project_type</th>\n",
              "      <th>clean_project_lead</th>\n",
              "      <th>clean_project_description</th>\n",
              "      <th>clean_priority</th>\n",
              "      <th>clean_resolution</th>\n",
              "      <th>clean_task_assignee</th>\n",
              "      <th>task_deadline</th>\n",
              "      <th>text_length</th>\n",
              "    </tr>\n",
              "  </thead>\n",
              "  <tbody>\n",
              "    <tr>\n",
              "      <th>0</th>\n",
              "      <td>implement task dashboard</td>\n",
              "      <td>bug</td>\n",
              "      <td>progress</td>\n",
              "      <td>backendapi</td>\n",
              "      <td>software</td>\n",
              "      <td>jatin raj</td>\n",
              "      <td>internal devops automation tool</td>\n",
              "      <td>low</td>\n",
              "      <td>done</td>\n",
              "      <td>brian kim</td>\n",
              "      <td>tow days</td>\n",
              "      <td>24</td>\n",
              "    </tr>\n",
              "    <tr>\n",
              "      <th>1</th>\n",
              "      <td>add dark mode feature</td>\n",
              "      <td>task</td>\n",
              "      <td>NaN</td>\n",
              "      <td>web portal</td>\n",
              "      <td>software</td>\n",
              "      <td>jatin raj</td>\n",
              "      <td>building ai model task sorting</td>\n",
              "      <td>medium</td>\n",
              "      <td>done</td>\n",
              "      <td>shraddha</td>\n",
              "      <td>five days</td>\n",
              "      <td>21</td>\n",
              "    </tr>\n",
              "    <tr>\n",
              "      <th>2</th>\n",
              "      <td>design splash screen</td>\n",
              "      <td>bug</td>\n",
              "      <td>NaN</td>\n",
              "      <td>mobileapp</td>\n",
              "      <td>software</td>\n",
              "      <td>pooja agarwal</td>\n",
              "      <td>portal customer access</td>\n",
              "      <td>low</td>\n",
              "      <td>progress</td>\n",
              "      <td>alice johnson</td>\n",
              "      <td>tow days</td>\n",
              "      <td>20</td>\n",
              "    </tr>\n",
              "    <tr>\n",
              "      <th>3</th>\n",
              "      <td>design splash screen</td>\n",
              "      <td>story</td>\n",
              "      <td>NaN</td>\n",
              "      <td>aiengine</td>\n",
              "      <td>software</td>\n",
              "      <td>pooja agarwal</td>\n",
              "      <td>building ai model task sorting</td>\n",
              "      <td>critical</td>\n",
              "      <td>progress</td>\n",
              "      <td>pooja agarwal</td>\n",
              "      <td>for days</td>\n",
              "      <td>20</td>\n",
              "    </tr>\n",
              "    <tr>\n",
              "      <th>4</th>\n",
              "      <td>revamp login ui</td>\n",
              "      <td>bug</td>\n",
              "      <td>NaN</td>\n",
              "      <td>devopstooling</td>\n",
              "      <td>software</td>\n",
              "      <td>pooja agarwal</td>\n",
              "      <td>building ai model task sorting</td>\n",
              "      <td>critical</td>\n",
              "      <td>progress</td>\n",
              "      <td>alice johnson</td>\n",
              "      <td>one days</td>\n",
              "      <td>15</td>\n",
              "    </tr>\n",
              "  </tbody>\n",
              "</table>\n",
              "</div>"
            ],
            "text/plain": [
              "              clean_summary clean_issue_type clean_status clean_project_name  \\\n",
              "0  implement task dashboard              bug     progress         backendapi   \n",
              "1     add dark mode feature             task          NaN         web portal   \n",
              "2      design splash screen              bug          NaN          mobileapp   \n",
              "3      design splash screen            story          NaN           aiengine   \n",
              "4           revamp login ui              bug          NaN      devopstooling   \n",
              "\n",
              "  clean_project_type clean_project_lead        clean_project_description  \\\n",
              "0           software          jatin raj  internal devops automation tool   \n",
              "1           software          jatin raj   building ai model task sorting   \n",
              "2           software      pooja agarwal           portal customer access   \n",
              "3           software      pooja agarwal   building ai model task sorting   \n",
              "4           software      pooja agarwal   building ai model task sorting   \n",
              "\n",
              "  clean_priority clean_resolution clean_task_assignee task_deadline  \\\n",
              "0            low             done           brian kim      tow days   \n",
              "1         medium             done            shraddha     five days   \n",
              "2            low         progress       alice johnson      tow days   \n",
              "3       critical         progress       pooja agarwal      for days   \n",
              "4       critical         progress       alice johnson      one days   \n",
              "\n",
              "   text_length  \n",
              "0           24  \n",
              "1           21  \n",
              "2           20  \n",
              "3           20  \n",
              "4           15  "
            ]
          },
          "execution_count": 88,
          "metadata": {},
          "output_type": "execute_result"
        }
      ],
      "source": [
        "df.head(5)"
      ]
    },
    {
      "cell_type": "markdown",
      "metadata": {
        "id": "abpq1ZbVWIUH"
      },
      "source": [
        "\n",
        "# New Section"
      ]
    },
    {
      "cell_type": "code",
      "execution_count": 89,
      "metadata": {
        "colab": {
          "base_uri": "https://localhost:8080/"
        },
        "id": "h5l87uo4aQ-f",
        "outputId": "db3f92f2-d2a2-43e2-dd77-333fafe682c4"
      },
      "outputs": [
        {
          "data": {
            "text/plain": [
              "Index(['clean_summary', 'clean_issue_type', 'clean_status',\n",
              "       'clean_project_name', 'clean_project_type', 'clean_project_lead',\n",
              "       'clean_project_description', 'clean_priority', 'clean_resolution',\n",
              "       'clean_task_assignee', 'task_deadline', 'text_length'],\n",
              "      dtype='object')"
            ]
          },
          "execution_count": 89,
          "metadata": {},
          "output_type": "execute_result"
        }
      ],
      "source": [
        "df.columns"
      ]
    },
    {
      "cell_type": "code",
      "execution_count": 90,
      "metadata": {
        "colab": {
          "base_uri": "https://localhost:8080/",
          "height": 460
        },
        "id": "E9ohmytAaQ10",
        "outputId": "2186eba1-1cec-4c78-e25b-a089075f5247"
      },
      "outputs": [
        {
          "data": {
            "text/plain": [
              "clean_summary                  1\n",
              "clean_issue_type               0\n",
              "clean_status                 543\n",
              "clean_project_name             0\n",
              "clean_project_type             0\n",
              "clean_project_lead             0\n",
              "clean_project_description      0\n",
              "clean_priority                 0\n",
              "clean_resolution               0\n",
              "clean_task_assignee            0\n",
              "task_deadline                  0\n",
              "text_length                    0\n",
              "dtype: int64"
            ]
          },
          "execution_count": 90,
          "metadata": {},
          "output_type": "execute_result"
        }
      ],
      "source": [
        "df.isnull().sum()"
      ]
    },
    {
      "cell_type": "code",
      "execution_count": 91,
      "metadata": {},
      "outputs": [],
      "source": [
        "df.ffill(inplace=True)"
      ]
    },
    {
      "cell_type": "code",
      "execution_count": 92,
      "metadata": {},
      "outputs": [
        {
          "data": {
            "text/plain": [
              "clean_summary                0\n",
              "clean_issue_type             0\n",
              "clean_status                 0\n",
              "clean_project_name           0\n",
              "clean_project_type           0\n",
              "clean_project_lead           0\n",
              "clean_project_description    0\n",
              "clean_priority               0\n",
              "clean_resolution             0\n",
              "clean_task_assignee          0\n",
              "task_deadline                0\n",
              "text_length                  0\n",
              "dtype: int64"
            ]
          },
          "execution_count": 92,
          "metadata": {},
          "output_type": "execute_result"
        }
      ],
      "source": [
        "df.isnull().sum()"
      ]
    },
    {
      "cell_type": "code",
      "execution_count": 93,
      "metadata": {
        "colab": {
          "base_uri": "https://localhost:8080/",
          "height": 460
        },
        "id": "melyK2ohbcyS",
        "outputId": "d94d472a-e699-487f-b15c-a41c2fd3fa57"
      },
      "outputs": [
        {
          "data": {
            "text/plain": [
              "clean_summary                object\n",
              "clean_issue_type             object\n",
              "clean_status                 object\n",
              "clean_project_name           object\n",
              "clean_project_type           object\n",
              "clean_project_lead           object\n",
              "clean_project_description    object\n",
              "clean_priority               object\n",
              "clean_resolution             object\n",
              "clean_task_assignee          object\n",
              "task_deadline                object\n",
              "text_length                   int64\n",
              "dtype: object"
            ]
          },
          "execution_count": 93,
          "metadata": {},
          "output_type": "execute_result"
        }
      ],
      "source": [
        "df.dtypes"
      ]
    },
    {
      "cell_type": "code",
      "execution_count": 94,
      "metadata": {
        "colab": {
          "base_uri": "https://localhost:8080/",
          "height": 519
        },
        "id": "ZKMyKiBVbfzR",
        "outputId": "9363989f-e3e3-4e8a-e754-124ef3315bbb"
      },
      "outputs": [
        {
          "data": {
            "text/html": [
              "<div>\n",
              "<style scoped>\n",
              "    .dataframe tbody tr th:only-of-type {\n",
              "        vertical-align: middle;\n",
              "    }\n",
              "\n",
              "    .dataframe tbody tr th {\n",
              "        vertical-align: top;\n",
              "    }\n",
              "\n",
              "    .dataframe thead th {\n",
              "        text-align: right;\n",
              "    }\n",
              "</style>\n",
              "<table border=\"1\" class=\"dataframe\">\n",
              "  <thead>\n",
              "    <tr style=\"text-align: right;\">\n",
              "      <th></th>\n",
              "      <th>clean_summary</th>\n",
              "      <th>clean_issue_type</th>\n",
              "      <th>clean_status</th>\n",
              "      <th>clean_project_name</th>\n",
              "      <th>clean_project_type</th>\n",
              "      <th>clean_project_lead</th>\n",
              "      <th>clean_project_description</th>\n",
              "      <th>clean_priority</th>\n",
              "      <th>clean_resolution</th>\n",
              "      <th>clean_task_assignee</th>\n",
              "      <th>task_deadline</th>\n",
              "      <th>text_length</th>\n",
              "    </tr>\n",
              "  </thead>\n",
              "  <tbody>\n",
              "    <tr>\n",
              "      <th>count</th>\n",
              "      <td>1234</td>\n",
              "      <td>1234</td>\n",
              "      <td>1234</td>\n",
              "      <td>1234</td>\n",
              "      <td>1234</td>\n",
              "      <td>1234</td>\n",
              "      <td>1234</td>\n",
              "      <td>1234</td>\n",
              "      <td>1234</td>\n",
              "      <td>1234</td>\n",
              "      <td>1234</td>\n",
              "      <td>1234.000000</td>\n",
              "    </tr>\n",
              "    <tr>\n",
              "      <th>unique</th>\n",
              "      <td>247</td>\n",
              "      <td>3</td>\n",
              "      <td>3</td>\n",
              "      <td>6</td>\n",
              "      <td>6</td>\n",
              "      <td>6</td>\n",
              "      <td>6</td>\n",
              "      <td>4</td>\n",
              "      <td>4</td>\n",
              "      <td>10</td>\n",
              "      <td>4</td>\n",
              "      <td>NaN</td>\n",
              "    </tr>\n",
              "    <tr>\n",
              "      <th>top</th>\n",
              "      <td>automate report generatio</td>\n",
              "      <td>story</td>\n",
              "      <td>progress</td>\n",
              "      <td>web portal</td>\n",
              "      <td>software</td>\n",
              "      <td>alice johnson</td>\n",
              "      <td>portal customer access</td>\n",
              "      <td>medium</td>\n",
              "      <td>progress</td>\n",
              "      <td>alice johnson</td>\n",
              "      <td>five days</td>\n",
              "      <td>NaN</td>\n",
              "    </tr>\n",
              "    <tr>\n",
              "      <th>freq</th>\n",
              "      <td>89</td>\n",
              "      <td>500</td>\n",
              "      <td>581</td>\n",
              "      <td>325</td>\n",
              "      <td>659</td>\n",
              "      <td>342</td>\n",
              "      <td>337</td>\n",
              "      <td>334</td>\n",
              "      <td>325</td>\n",
              "      <td>207</td>\n",
              "      <td>317</td>\n",
              "      <td>NaN</td>\n",
              "    </tr>\n",
              "    <tr>\n",
              "      <th>mean</th>\n",
              "      <td>NaN</td>\n",
              "      <td>NaN</td>\n",
              "      <td>NaN</td>\n",
              "      <td>NaN</td>\n",
              "      <td>NaN</td>\n",
              "      <td>NaN</td>\n",
              "      <td>NaN</td>\n",
              "      <td>NaN</td>\n",
              "      <td>NaN</td>\n",
              "      <td>NaN</td>\n",
              "      <td>NaN</td>\n",
              "      <td>24.939222</td>\n",
              "    </tr>\n",
              "    <tr>\n",
              "      <th>std</th>\n",
              "      <td>NaN</td>\n",
              "      <td>NaN</td>\n",
              "      <td>NaN</td>\n",
              "      <td>NaN</td>\n",
              "      <td>NaN</td>\n",
              "      <td>NaN</td>\n",
              "      <td>NaN</td>\n",
              "      <td>NaN</td>\n",
              "      <td>NaN</td>\n",
              "      <td>NaN</td>\n",
              "      <td>NaN</td>\n",
              "      <td>30.430121</td>\n",
              "    </tr>\n",
              "    <tr>\n",
              "      <th>min</th>\n",
              "      <td>NaN</td>\n",
              "      <td>NaN</td>\n",
              "      <td>NaN</td>\n",
              "      <td>NaN</td>\n",
              "      <td>NaN</td>\n",
              "      <td>NaN</td>\n",
              "      <td>NaN</td>\n",
              "      <td>NaN</td>\n",
              "      <td>NaN</td>\n",
              "      <td>NaN</td>\n",
              "      <td>NaN</td>\n",
              "      <td>0.000000</td>\n",
              "    </tr>\n",
              "    <tr>\n",
              "      <th>25%</th>\n",
              "      <td>NaN</td>\n",
              "      <td>NaN</td>\n",
              "      <td>NaN</td>\n",
              "      <td>NaN</td>\n",
              "      <td>NaN</td>\n",
              "      <td>NaN</td>\n",
              "      <td>NaN</td>\n",
              "      <td>NaN</td>\n",
              "      <td>NaN</td>\n",
              "      <td>NaN</td>\n",
              "      <td>NaN</td>\n",
              "      <td>20.000000</td>\n",
              "    </tr>\n",
              "    <tr>\n",
              "      <th>50%</th>\n",
              "      <td>NaN</td>\n",
              "      <td>NaN</td>\n",
              "      <td>NaN</td>\n",
              "      <td>NaN</td>\n",
              "      <td>NaN</td>\n",
              "      <td>NaN</td>\n",
              "      <td>NaN</td>\n",
              "      <td>NaN</td>\n",
              "      <td>NaN</td>\n",
              "      <td>NaN</td>\n",
              "      <td>NaN</td>\n",
              "      <td>22.000000</td>\n",
              "    </tr>\n",
              "    <tr>\n",
              "      <th>75%</th>\n",
              "      <td>NaN</td>\n",
              "      <td>NaN</td>\n",
              "      <td>NaN</td>\n",
              "      <td>NaN</td>\n",
              "      <td>NaN</td>\n",
              "      <td>NaN</td>\n",
              "      <td>NaN</td>\n",
              "      <td>NaN</td>\n",
              "      <td>NaN</td>\n",
              "      <td>NaN</td>\n",
              "      <td>NaN</td>\n",
              "      <td>25.000000</td>\n",
              "    </tr>\n",
              "    <tr>\n",
              "      <th>max</th>\n",
              "      <td>NaN</td>\n",
              "      <td>NaN</td>\n",
              "      <td>NaN</td>\n",
              "      <td>NaN</td>\n",
              "      <td>NaN</td>\n",
              "      <td>NaN</td>\n",
              "      <td>NaN</td>\n",
              "      <td>NaN</td>\n",
              "      <td>NaN</td>\n",
              "      <td>NaN</td>\n",
              "      <td>NaN</td>\n",
              "      <td>1021.000000</td>\n",
              "    </tr>\n",
              "  </tbody>\n",
              "</table>\n",
              "</div>"
            ],
            "text/plain": [
              "                    clean_summary clean_issue_type clean_status  \\\n",
              "count                        1234             1234         1234   \n",
              "unique                        247                3            3   \n",
              "top     automate report generatio            story     progress   \n",
              "freq                           89              500          581   \n",
              "mean                          NaN              NaN          NaN   \n",
              "std                           NaN              NaN          NaN   \n",
              "min                           NaN              NaN          NaN   \n",
              "25%                           NaN              NaN          NaN   \n",
              "50%                           NaN              NaN          NaN   \n",
              "75%                           NaN              NaN          NaN   \n",
              "max                           NaN              NaN          NaN   \n",
              "\n",
              "       clean_project_name clean_project_type clean_project_lead  \\\n",
              "count                1234               1234               1234   \n",
              "unique                  6                  6                  6   \n",
              "top            web portal           software      alice johnson   \n",
              "freq                  325                659                342   \n",
              "mean                  NaN                NaN                NaN   \n",
              "std                   NaN                NaN                NaN   \n",
              "min                   NaN                NaN                NaN   \n",
              "25%                   NaN                NaN                NaN   \n",
              "50%                   NaN                NaN                NaN   \n",
              "75%                   NaN                NaN                NaN   \n",
              "max                   NaN                NaN                NaN   \n",
              "\n",
              "       clean_project_description clean_priority clean_resolution  \\\n",
              "count                       1234           1234             1234   \n",
              "unique                         6              4                4   \n",
              "top       portal customer access         medium         progress   \n",
              "freq                         337            334              325   \n",
              "mean                         NaN            NaN              NaN   \n",
              "std                          NaN            NaN              NaN   \n",
              "min                          NaN            NaN              NaN   \n",
              "25%                          NaN            NaN              NaN   \n",
              "50%                          NaN            NaN              NaN   \n",
              "75%                          NaN            NaN              NaN   \n",
              "max                          NaN            NaN              NaN   \n",
              "\n",
              "       clean_task_assignee task_deadline  text_length  \n",
              "count                 1234          1234  1234.000000  \n",
              "unique                  10             4          NaN  \n",
              "top          alice johnson     five days          NaN  \n",
              "freq                   207           317          NaN  \n",
              "mean                   NaN           NaN    24.939222  \n",
              "std                    NaN           NaN    30.430121  \n",
              "min                    NaN           NaN     0.000000  \n",
              "25%                    NaN           NaN    20.000000  \n",
              "50%                    NaN           NaN    22.000000  \n",
              "75%                    NaN           NaN    25.000000  \n",
              "max                    NaN           NaN  1021.000000  "
            ]
          },
          "execution_count": 94,
          "metadata": {},
          "output_type": "execute_result"
        }
      ],
      "source": [
        "df.describe(include=\"all\")"
      ]
    },
    {
      "cell_type": "code",
      "execution_count": 95,
      "metadata": {
        "colab": {
          "base_uri": "https://localhost:8080/"
        },
        "id": "sQnKesOrbkEZ",
        "outputId": "3c2dbff6-58ec-4ed4-da69-4336802a3881"
      },
      "outputs": [
        {
          "name": "stdout",
          "output_type": "stream",
          "text": [
            "clean_summary\n",
            "clean_issue_type\n",
            "clean_status\n",
            "clean_project_name\n",
            "clean_project_type\n",
            "clean_project_lead\n",
            "clean_project_description\n",
            "clean_priority\n",
            "clean_resolution\n",
            "clean_task_assignee\n",
            "task_deadline\n",
            "text_length\n"
          ]
        }
      ],
      "source": [
        "for col in df.columns:\n",
        "    print(col)"
      ]
    },
    {
      "cell_type": "code",
      "execution_count": 96,
      "metadata": {
        "id": "Q7OLotQPbnpq"
      },
      "outputs": [],
      "source": [
        "# text_cols = ['Summary', 'Status','Priority', 'Resolution','Task_Started','Task_Deadline'],\n",
        "text_cols = ['clean_summary', 'clean_status','clean_priority', 'clean_resolution'],\n",
        "for col in text_cols:\n",
        "  df[col] = df[col].astype(str)"
      ]
    },
    {
      "cell_type": "code",
      "execution_count": 97,
      "metadata": {
        "id": "2r2nXATZcf_s"
      },
      "outputs": [],
      "source": [
        "df.columns = df.columns.str.strip().str.lower().str.replace(' ', '_')"
      ]
    },
    {
      "cell_type": "code",
      "execution_count": 98,
      "metadata": {
        "colab": {
          "base_uri": "https://localhost:8080/",
          "height": 201
        },
        "id": "7Q-sCFpAcm3M",
        "outputId": "78b687a9-594a-4b71-a59d-168f7ec89412"
      },
      "outputs": [
        {
          "data": {
            "text/html": [
              "<div>\n",
              "<style scoped>\n",
              "    .dataframe tbody tr th:only-of-type {\n",
              "        vertical-align: middle;\n",
              "    }\n",
              "\n",
              "    .dataframe tbody tr th {\n",
              "        vertical-align: top;\n",
              "    }\n",
              "\n",
              "    .dataframe thead th {\n",
              "        text-align: right;\n",
              "    }\n",
              "</style>\n",
              "<table border=\"1\" class=\"dataframe\">\n",
              "  <thead>\n",
              "    <tr style=\"text-align: right;\">\n",
              "      <th></th>\n",
              "      <th>clean_summary</th>\n",
              "      <th>clean_issue_type</th>\n",
              "      <th>clean_status</th>\n",
              "      <th>clean_project_name</th>\n",
              "      <th>clean_project_type</th>\n",
              "      <th>clean_project_lead</th>\n",
              "      <th>clean_project_description</th>\n",
              "      <th>clean_priority</th>\n",
              "      <th>clean_resolution</th>\n",
              "      <th>clean_task_assignee</th>\n",
              "      <th>task_deadline</th>\n",
              "      <th>text_length</th>\n",
              "    </tr>\n",
              "  </thead>\n",
              "  <tbody>\n",
              "    <tr>\n",
              "      <th>0</th>\n",
              "      <td>implement task dashboard</td>\n",
              "      <td>bug</td>\n",
              "      <td>progress</td>\n",
              "      <td>backendapi</td>\n",
              "      <td>software</td>\n",
              "      <td>jatin raj</td>\n",
              "      <td>internal devops automation tool</td>\n",
              "      <td>low</td>\n",
              "      <td>done</td>\n",
              "      <td>brian kim</td>\n",
              "      <td>tow days</td>\n",
              "      <td>24</td>\n",
              "    </tr>\n",
              "    <tr>\n",
              "      <th>1</th>\n",
              "      <td>add dark mode feature</td>\n",
              "      <td>task</td>\n",
              "      <td>progress</td>\n",
              "      <td>web portal</td>\n",
              "      <td>software</td>\n",
              "      <td>jatin raj</td>\n",
              "      <td>building ai model task sorting</td>\n",
              "      <td>medium</td>\n",
              "      <td>done</td>\n",
              "      <td>shraddha</td>\n",
              "      <td>five days</td>\n",
              "      <td>21</td>\n",
              "    </tr>\n",
              "  </tbody>\n",
              "</table>\n",
              "</div>"
            ],
            "text/plain": [
              "              clean_summary clean_issue_type clean_status clean_project_name  \\\n",
              "0  implement task dashboard              bug     progress         backendapi   \n",
              "1     add dark mode feature             task     progress         web portal   \n",
              "\n",
              "  clean_project_type clean_project_lead        clean_project_description  \\\n",
              "0           software          jatin raj  internal devops automation tool   \n",
              "1           software          jatin raj   building ai model task sorting   \n",
              "\n",
              "  clean_priority clean_resolution clean_task_assignee task_deadline  \\\n",
              "0            low             done           brian kim      tow days   \n",
              "1         medium             done            shraddha     five days   \n",
              "\n",
              "   text_length  \n",
              "0           24  \n",
              "1           21  "
            ]
          },
          "execution_count": 98,
          "metadata": {},
          "output_type": "execute_result"
        }
      ],
      "source": [
        "df.head(2)"
      ]
    },
    {
      "cell_type": "code",
      "execution_count": 99,
      "metadata": {
        "id": "70u8a08lBTb-"
      },
      "outputs": [],
      "source": [
        "# !pip install nltk pandas re\n",
        "import nltk\n",
        "import re\n",
        "from nltk.corpus import stopwords\n",
        "from nltk.tokenize import word_tokenize\n",
        "from nltk.stem import WordNetLemmatizer\n",
        "import pandas as pd\n",
        "import string # Import the string modul"
      ]
    },
    {
      "cell_type": "code",
      "execution_count": 100,
      "metadata": {
        "colab": {
          "base_uri": "https://localhost:8080/"
        },
        "id": "bFHbJbt9BZmP",
        "outputId": "37c353c3-0b05-4962-fd52-01e11a43d2b9"
      },
      "outputs": [
        {
          "name": "stderr",
          "output_type": "stream",
          "text": [
            "[nltk_data] Downloading package punkt to\n",
            "[nltk_data]     C:\\Users\\91999\\AppData\\Roaming\\nltk_data...\n",
            "[nltk_data]   Package punkt is already up-to-date!\n",
            "[nltk_data] Downloading package stopwords to\n",
            "[nltk_data]     C:\\Users\\91999\\AppData\\Roaming\\nltk_data...\n",
            "[nltk_data]   Package stopwords is already up-to-date!\n",
            "[nltk_data] Downloading package wordnet to\n",
            "[nltk_data]     C:\\Users\\91999\\AppData\\Roaming\\nltk_data...\n",
            "[nltk_data]   Package wordnet is already up-to-date!\n",
            "[nltk_data] Downloading package punkt_tab to\n",
            "[nltk_data]     C:\\Users\\91999\\AppData\\Roaming\\nltk_data...\n",
            "[nltk_data]   Package punkt_tab is already up-to-date!\n"
          ]
        },
        {
          "data": {
            "text/plain": [
              "True"
            ]
          },
          "execution_count": 100,
          "metadata": {},
          "output_type": "execute_result"
        }
      ],
      "source": [
        "# Ensure necessary NLTK data is downloaded, including punkt_tab\n",
        "nltk.download('punkt')\n",
        "nltk.download('stopwords')\n",
        "nltk.download('wordnet')\n",
        "nltk.download('punkt_tab') # Download the missing resource"
      ]
    },
    {
      "cell_type": "code",
      "execution_count": 101,
      "metadata": {
        "id": "Qr9DnIdzBfAg"
      },
      "outputs": [],
      "source": [
        "stop_words = set(stopwords.words('english'))\n",
        "lemmatizer = WordNetLemmatizer()"
      ]
    },
    {
      "cell_type": "code",
      "execution_count": 102,
      "metadata": {
        "id": "8bDBZJzj7rNO"
      },
      "outputs": [],
      "source": [
        "def clean_text(text):\n",
        "    # Ensure input is a string\n",
        "    text = str(text).lower()\n",
        "    text = re.sub(r\"http\\S+|www\\S+|https\\S+\", '', text)  # remove urls\n",
        "    text = re.sub(r'\\d+', '', text)  # remove digits\n",
        "    # Use string.punctuation directly\n",
        "    text = re.sub(rf\"[{re.escape(string.punctuation)}]\", '', text)\n",
        "    text = re.sub(r'\\s+', ' ', text).strip()\n",
        "    # Tokenize\n",
        "    tokens = word_tokenize(text)\n",
        "    # Remove stopwords and lemmatize\n",
        "    tokens = [lemmatizer.lemmatize(w) for w in tokens if w not in stop_words]\n",
        "    return ' '.join(tokens)\n"
      ]
    },
    {
      "cell_type": "code",
      "execution_count": 103,
      "metadata": {
        "colab": {
          "base_uri": "https://localhost:8080/",
          "height": 411
        },
        "id": "xtKq9QbRf-TC",
        "outputId": "8a879a00-1b9d-4d29-e92c-efc4968b5f70"
      },
      "outputs": [
        {
          "data": {
            "text/html": [
              "<div>\n",
              "<style scoped>\n",
              "    .dataframe tbody tr th:only-of-type {\n",
              "        vertical-align: middle;\n",
              "    }\n",
              "\n",
              "    .dataframe tbody tr th {\n",
              "        vertical-align: top;\n",
              "    }\n",
              "\n",
              "    .dataframe thead th {\n",
              "        text-align: right;\n",
              "    }\n",
              "</style>\n",
              "<table border=\"1\" class=\"dataframe\">\n",
              "  <thead>\n",
              "    <tr style=\"text-align: right;\">\n",
              "      <th></th>\n",
              "      <th>clean_summary</th>\n",
              "      <th>clean_issue_type</th>\n",
              "      <th>clean_status</th>\n",
              "      <th>clean_project_name</th>\n",
              "      <th>clean_project_type</th>\n",
              "      <th>clean_project_lead</th>\n",
              "      <th>clean_project_description</th>\n",
              "      <th>clean_priority</th>\n",
              "      <th>clean_resolution</th>\n",
              "      <th>clean_task_assignee</th>\n",
              "      <th>task_deadline</th>\n",
              "      <th>text_length</th>\n",
              "    </tr>\n",
              "  </thead>\n",
              "  <tbody>\n",
              "    <tr>\n",
              "      <th>0</th>\n",
              "      <td>implement task dashboard</td>\n",
              "      <td>bug</td>\n",
              "      <td>progress</td>\n",
              "      <td>backendapi</td>\n",
              "      <td>software</td>\n",
              "      <td>jatin raj</td>\n",
              "      <td>internal devops automation tool</td>\n",
              "      <td>low</td>\n",
              "      <td>done</td>\n",
              "      <td>brian kim</td>\n",
              "      <td>tow days</td>\n",
              "      <td>24</td>\n",
              "    </tr>\n",
              "    <tr>\n",
              "      <th>1</th>\n",
              "      <td>add dark mode feature</td>\n",
              "      <td>task</td>\n",
              "      <td>progress</td>\n",
              "      <td>web portal</td>\n",
              "      <td>software</td>\n",
              "      <td>jatin raj</td>\n",
              "      <td>building ai model task sorting</td>\n",
              "      <td>medium</td>\n",
              "      <td>done</td>\n",
              "      <td>shraddha</td>\n",
              "      <td>five days</td>\n",
              "      <td>21</td>\n",
              "    </tr>\n",
              "    <tr>\n",
              "      <th>2</th>\n",
              "      <td>design splash screen</td>\n",
              "      <td>bug</td>\n",
              "      <td>progress</td>\n",
              "      <td>mobileapp</td>\n",
              "      <td>software</td>\n",
              "      <td>pooja agarwal</td>\n",
              "      <td>portal customer access</td>\n",
              "      <td>low</td>\n",
              "      <td>progress</td>\n",
              "      <td>alice johnson</td>\n",
              "      <td>tow days</td>\n",
              "      <td>20</td>\n",
              "    </tr>\n",
              "    <tr>\n",
              "      <th>3</th>\n",
              "      <td>design splash screen</td>\n",
              "      <td>story</td>\n",
              "      <td>progress</td>\n",
              "      <td>aiengine</td>\n",
              "      <td>software</td>\n",
              "      <td>pooja agarwal</td>\n",
              "      <td>building ai model task sorting</td>\n",
              "      <td>critical</td>\n",
              "      <td>progress</td>\n",
              "      <td>pooja agarwal</td>\n",
              "      <td>for days</td>\n",
              "      <td>20</td>\n",
              "    </tr>\n",
              "    <tr>\n",
              "      <th>4</th>\n",
              "      <td>revamp login ui</td>\n",
              "      <td>bug</td>\n",
              "      <td>progress</td>\n",
              "      <td>devopstooling</td>\n",
              "      <td>software</td>\n",
              "      <td>pooja agarwal</td>\n",
              "      <td>building ai model task sorting</td>\n",
              "      <td>critical</td>\n",
              "      <td>progress</td>\n",
              "      <td>alice johnson</td>\n",
              "      <td>one days</td>\n",
              "      <td>15</td>\n",
              "    </tr>\n",
              "  </tbody>\n",
              "</table>\n",
              "</div>"
            ],
            "text/plain": [
              "              clean_summary clean_issue_type clean_status clean_project_name  \\\n",
              "0  implement task dashboard              bug     progress         backendapi   \n",
              "1     add dark mode feature             task     progress         web portal   \n",
              "2      design splash screen              bug     progress          mobileapp   \n",
              "3      design splash screen            story     progress           aiengine   \n",
              "4           revamp login ui              bug     progress      devopstooling   \n",
              "\n",
              "  clean_project_type clean_project_lead        clean_project_description  \\\n",
              "0           software          jatin raj  internal devops automation tool   \n",
              "1           software          jatin raj   building ai model task sorting   \n",
              "2           software      pooja agarwal           portal customer access   \n",
              "3           software      pooja agarwal   building ai model task sorting   \n",
              "4           software      pooja agarwal   building ai model task sorting   \n",
              "\n",
              "  clean_priority clean_resolution clean_task_assignee task_deadline  \\\n",
              "0            low             done           brian kim      tow days   \n",
              "1         medium             done            shraddha     five days   \n",
              "2            low         progress       alice johnson      tow days   \n",
              "3       critical         progress       pooja agarwal      for days   \n",
              "4       critical         progress       alice johnson      one days   \n",
              "\n",
              "   text_length  \n",
              "0           24  \n",
              "1           21  \n",
              "2           20  \n",
              "3           20  \n",
              "4           15  "
            ]
          },
          "execution_count": 103,
          "metadata": {},
          "output_type": "execute_result"
        }
      ],
      "source": [
        "df.head()"
      ]
    },
    {
      "cell_type": "code",
      "execution_count": 104,
      "metadata": {
        "colab": {
          "base_uri": "https://localhost:8080/"
        },
        "id": "OxDZTtaujrAi",
        "outputId": "8572e37d-2e1a-43cd-e7de-0ba296a2fbe1"
      },
      "outputs": [
        {
          "name": "stdout",
          "output_type": "stream",
          "text": [
            "Shape: (1234, 12)\n",
            "Columns: ['clean_summary', 'clean_issue_type', 'clean_status', 'clean_project_name', 'clean_project_type', 'clean_project_lead', 'clean_project_description', 'clean_priority', 'clean_resolution', 'clean_task_assignee', 'task_deadline', 'text_length']\n",
            "\n",
            "Missing Values:\n",
            " clean_summary                0\n",
            "clean_issue_type             0\n",
            "clean_status                 0\n",
            "clean_project_name           0\n",
            "clean_project_type           0\n",
            "clean_project_lead           0\n",
            "clean_project_description    0\n",
            "clean_priority               0\n",
            "clean_resolution             0\n",
            "clean_task_assignee          0\n",
            "task_deadline                0\n",
            "text_length                  0\n",
            "dtype: int64\n",
            "\n",
            "Data Types:\n",
            " clean_summary                object\n",
            "clean_issue_type             object\n",
            "clean_status                 object\n",
            "clean_project_name           object\n",
            "clean_project_type           object\n",
            "clean_project_lead           object\n",
            "clean_project_description    object\n",
            "clean_priority               object\n",
            "clean_resolution             object\n",
            "clean_task_assignee          object\n",
            "task_deadline                object\n",
            "text_length                   int64\n",
            "dtype: object\n"
          ]
        }
      ],
      "source": [
        "print(\"Shape:\", df.shape)\n",
        "print(\"Columns:\", df.columns.tolist())\n",
        "print(\"\\nMissing Values:\\n\", df.isnull().sum())\n",
        "print(\"\\nData Types:\\n\", df.dtypes)\n"
      ]
    },
    {
      "cell_type": "code",
      "execution_count": 105,
      "metadata": {
        "id": "Ek26fYWnwyEx"
      },
      "outputs": [],
      "source": [
        "# !pip install matplotlib seaborn"
      ]
    },
    {
      "cell_type": "code",
      "execution_count": 106,
      "metadata": {
        "id": "tO2CFPhajyof"
      },
      "outputs": [],
      "source": [
        "import matplotlib.pyplot as plt\n",
        "import seaborn as sns"
      ]
    },
    {
      "cell_type": "code",
      "execution_count": 107,
      "metadata": {
        "colab": {
          "base_uri": "https://localhost:8080/"
        },
        "id": "2lt07x1or8Y6",
        "outputId": "b6108007-054e-4546-bdc0-9b1e9a7f624c"
      },
      "outputs": [
        {
          "name": "stdout",
          "output_type": "stream",
          "text": [
            "True\n",
            "0      bug\n",
            "1     task\n",
            "2      bug\n",
            "3    story\n",
            "4      bug\n",
            "Name: clean_issue_type, dtype: object\n",
            "1229    story\n",
            "1230    story\n",
            "1231      bug\n",
            "1232      bug\n",
            "1233     task\n",
            "Name: clean_issue_type, dtype: object\n",
            "Empty DataFrame\n",
            "Columns: [clean_summary, clean_issue_type, clean_status, clean_project_name, clean_project_type, clean_project_lead, clean_project_description, clean_priority, clean_resolution, clean_task_assignee, task_deadline, text_length]\n",
            "Index: []\n",
            "clean_issue_type\n",
            "story    500\n",
            "bug      396\n",
            "task     338\n",
            "Name: count, dtype: int64\n"
          ]
        }
      ],
      "source": [
        "print(\"clean_issue_type\" in df.columns)\n",
        "print(df['clean_issue_type'].head())  # Show the first 5 rows\n",
        "print(df['clean_issue_type'].tail())  # Show the first 5 rows\n",
        "print(df[df['clean_issue_type'].isnull()])\n",
        "print(df['clean_issue_type'].value_counts())\n"
      ]
    },
    {
      "cell_type": "code",
      "execution_count": 108,
      "metadata": {
        "colab": {
          "base_uri": "https://localhost:8080/",
          "height": 508
        },
        "id": "ytFVc6wHj1jg",
        "outputId": "8563b2b4-8810-4cd7-a032-13ef2573cba7"
      },
      "outputs": [
        {
          "data": {
            "image/png": "[encoded data removed]",
            "text/plain": [
              "<Figure size 1000x500 with 1 Axes>"
            ]
          },
          "metadata": {},
          "output_type": "display_data"
        }
      ],
      "source": [
        "plt.figure(figsize=(10, 5))\n",
        "sns.countplot(data=df, x='clean_issue_type', order=df['clean_issue_type'].value_counts().index)\n",
        "plt.title(\"Issue Type Distribution\")\n",
        "plt.xticks(rotation=45)\n",
        "plt.show()"
      ]
    },
    {
      "cell_type": "code",
      "execution_count": 109,
      "metadata": {},
      "outputs": [
        {
          "data": {
            "text/plain": [
              "Index(['clean_summary', 'clean_issue_type', 'clean_status',\n",
              "       'clean_project_name', 'clean_project_type', 'clean_project_lead',\n",
              "       'clean_project_description', 'clean_priority', 'clean_resolution',\n",
              "       'clean_task_assignee', 'task_deadline', 'text_length'],\n",
              "      dtype='object')"
            ]
          },
          "execution_count": 109,
          "metadata": {},
          "output_type": "execute_result"
        }
      ],
      "source": [
        "df.columns"
      ]
    },
    {
      "cell_type": "code",
      "execution_count": 110,
      "metadata": {},
      "outputs": [
        {
          "data": {
            "image/png": "[encoded data removed]",
            "text/plain": [
              "<Figure size 640x480 with 1 Axes>"
            ]
          },
          "metadata": {},
          "output_type": "display_data"
        }
      ],
      "source": [
        "sns.countplot(data=df, x='clean_project_type', hue='task_deadline')\n",
        "plt.show()"
      ]
    },
    {
      "cell_type": "code",
      "execution_count": 111,
      "metadata": {
        "colab": {
          "base_uri": "https://localhost:8080/",
          "height": 450
        },
        "id": "MwmNytH5j_mW",
        "outputId": "1ded0ae9-3e43-495c-9973-6f14e08b2e70"
      },
      "outputs": [
        {
          "data": {
            "image/png": "[encoded data removed]",
            "text/plain": [
              "<Figure size 640x480 with 1 Axes>"
            ]
          },
          "metadata": {},
          "output_type": "display_data"
        }
      ],
      "source": [
        "sns.countplot(data=df, x='clean_priority', hue='clean_issue_type')\n",
        "plt.show()"
      ]
    },
    {
      "cell_type": "code",
      "execution_count": 112,
      "metadata": {
        "colab": {
          "base_uri": "https://localhost:8080/",
          "height": 757
        },
        "id": "GC54CTJZkCJg",
        "outputId": "25e6716a-588e-44f9-a90e-b26090fd0d5e"
      },
      "outputs": [
        {
          "data": {
            "image/png": "[encoded data removed]",
            "text/plain": [
              "<Figure size 800x800 with 1 Axes>"
            ]
          },
          "metadata": {},
          "output_type": "display_data"
        }
      ],
      "source": [
        "plt.figure(figsize=(8, 8))\n",
        "sns.countplot(data=df, x='clean_status', order=df['clean_status'].value_counts().index)\n",
        "plt.title(\"Issue Status Distribution\")\n",
        "plt.xticks(rotation=45)\n",
        "plt.show()\n"
      ]
    },
    {
      "cell_type": "code",
      "execution_count": 113,
      "metadata": {
        "colab": {
          "base_uri": "https://localhost:8080/",
          "height": 448
        },
        "id": "OmVUVbevkEc_",
        "outputId": "413416b2-e9ad-4f75-8f06-6b8d6344a852"
      },
      "outputs": [
        {
          "data": {
            "text/plain": [
              "<Axes: >"
            ]
          },
          "execution_count": 113,
          "metadata": {},
          "output_type": "execute_result"
        },
        {
          "data": {
            "image/png": "[encoded data removed]",
            "text/plain": [
              "<Figure size 640x480 with 1 Axes>"
            ]
          },
          "metadata": {},
          "output_type": "display_data"
        }
      ],
      "source": [
        "df['text_length'] = df['clean_summary'].apply(len)\n",
        "df['text_length'].hist()\n"
      ]
    },
    {
      "cell_type": "code",
      "execution_count": 114,
      "metadata": {
        "colab": {
          "base_uri": "https://localhost:8080/",
          "height": 523
        },
        "id": "3yn5lrHXkGcs",
        "outputId": "db83e7b4-12a9-4c1f-fd7a-294bde2b0905"
      },
      "outputs": [
        {
          "data": {
            "image/png": "[encoded data removed]",
            "text/plain": [
              "<Figure size 1000x500 with 1 Axes>"
            ]
          },
          "metadata": {},
          "output_type": "display_data"
        }
      ],
      "source": [
        "plt.figure(figsize=(10, 5))\n",
        "sns.countplot(data=df, x='clean_priority', order=df['clean_priority'].value_counts().index)\n",
        "plt.title(\"Issue Priority Distribution\")\n",
        "plt.xticks(rotation=45)\n",
        "plt.show()"
      ]
    },
    {
      "cell_type": "code",
      "execution_count": 115,
      "metadata": {
        "colab": {
          "base_uri": "https://localhost:8080/",
          "height": 872
        },
        "id": "WY6bshmckI3k",
        "outputId": "537f8888-d7e5-4023-cf47-cae73d366653"
      },
      "outputs": [
        {
          "data": {
            "image/png": "[encoded data removed]",
            "text/plain": [
              "<Figure size 800x1000 with 1 Axes>"
            ]
          },
          "metadata": {},
          "output_type": "display_data"
        }
      ],
      "source": [
        "top_projects = df['clean_project_name'].value_counts().head(10)\n",
        "\n",
        "plt.figure(figsize=(8, 10))\n",
        "sns.barplot(x=top_projects.values, y=top_projects.index)\n",
        "plt.title(\"Top 10 Projects by Issue Count\")\n",
        "plt.xlabel(\"Issue Count\")\n",
        "plt.ylabel(\"Project Name\")\n",
        "plt.show()\n"
      ]
    },
    {
      "cell_type": "code",
      "execution_count": 116,
      "metadata": {
        "colab": {
          "base_uri": "https://localhost:8080/",
          "height": 564
        },
        "id": "FHxxE1z6kL2B",
        "outputId": "146fb55a-3878-43bd-af83-fe7703c48030"
      },
      "outputs": [
        {
          "data": {
            "image/png": "[encoded data removed]",
            "text/plain": [
              "<Figure size 1000x600 with 2 Axes>"
            ]
          },
          "metadata": {},
          "output_type": "display_data"
        }
      ],
      "source": [
        "pivot = pd.crosstab(df['clean_issue_type'], df['clean_priority'])\n",
        "\n",
        "plt.figure(figsize=(10,6))\n",
        "sns.heatmap(pivot, annot=True, fmt='d', cmap='YlGnBu')\n",
        "plt.title(\"Issue Type vs Priority Heatmap\")\n",
        "plt.show()\n"
      ]
    },
    {
      "cell_type": "code",
      "execution_count": 117,
      "metadata": {
        "colab": {
          "base_uri": "https://localhost:8080/",
          "height": 331
        },
        "id": "kHFMuFykCaAn",
        "outputId": "97098b2b-93ab-4ce2-a868-a6ce872cf415"
      },
      "outputs": [
        {
          "data": {
            "text/plain": [
              "<matplotlib.image.AxesImage at 0x246c2d3dd60>"
            ]
          },
          "execution_count": 117,
          "metadata": {},
          "output_type": "execute_result"
        },
        {
          "data": {
            "image/png": "[encoded data removed]",
            "text/plain": [
              "<Figure size 640x480 with 1 Axes>"
            ]
          },
          "metadata": {},
          "output_type": "display_data"
        }
      ],
      "source": [
        "from wordcloud import WordCloud\n",
        "wordcloud = WordCloud().generate(' '.join(df['clean_summary']))\n",
        "plt.imshow(wordcloud)\n"
      ]
    },
    {
      "cell_type": "code",
      "execution_count": 118,
      "metadata": {
        "colab": {
          "base_uri": "https://localhost:8080/"
        },
        "id": "Z26ma_r23WF9",
        "outputId": "36d3be47-d6cc-44ff-9e67-1b0d8859f346"
      },
      "outputs": [
        {
          "name": "stdout",
          "output_type": "stream",
          "text": [
            "Top words in 'Bug' issues:\n",
            "add: 58\n",
            "login: 45\n",
            "task: 39\n",
            "feature: 36\n",
            "network: 30\n",
            "latency: 30\n",
            "issue: 30\n",
            "automate: 29\n",
            "report: 29\n",
            "generatio: 29\n"
          ]
        }
      ],
      "source": [
        "from sklearn.feature_extraction.text import CountVectorizer\n",
        "import pandas as pd # Import pandas\n",
        "\n",
        "def get_top_n_words(corpus, n=None):\n",
        "    # Ensure corpus is a Series and drop any NaN values before processing\n",
        "    if isinstance(corpus, pd.Series):\n",
        "        corpus = corpus.dropna()\n",
        "    vec = CountVectorizer(stop_words='english').fit(corpus)\n",
        "    bag_of_words = vec.transform(corpus)\n",
        "    sum_words = bag_of_words.sum(axis=0)\n",
        "    words_freq = [(word, sum_words[0, idx]) for word, idx in vec.vocabulary_.items()]\n",
        "    words_freq = sorted(words_freq, key=lambda x: x[1], reverse=True)\n",
        "    return words_freq[:n]\n",
        "\n",
        "# Example: For 'bug' issues\n",
        "bug_summary = df[df['clean_issue_type'] == 'bug']['clean_summary']\n",
        "top_bug_words = get_top_n_words(bug_summary, n=10)\n",
        "\n",
        "print(\"Top words in 'Bug' issues:\")\n",
        "for word, freq in top_bug_words:\n",
        "    print(f\"{word}: {freq}\")"
      ]
    },
    {
      "cell_type": "code",
      "execution_count": 119,
      "metadata": {
        "id": "QVEDvsD-_zWo"
      },
      "outputs": [],
      "source": [
        "import pandas as pd\n",
        "import numpy as np\n",
        "\n",
        "from sklearn.feature_extraction.text import TfidfVectorizer\n",
        "from sklearn.model_selection import train_test_split, GridSearchCV\n",
        "from sklearn.linear_model import LogisticRegression\n",
        "from sklearn.multioutput import MultiOutputClassifier\n",
        "from sklearn.metrics import accuracy_score, classification_report, hamming_loss # Keep hamming_loss for appropriate targets\n",
        "from sklearn.preprocessing import LabelEncoder\n",
        "from scipy.sparse import hstack"
      ]
    },
    {
      "cell_type": "code",
      "execution_count": 120,
      "metadata": {
        "colab": {
          "base_uri": "https://localhost:8080/",
          "height": 167
        },
        "id": "Pw-hSAlyAjJG",
        "outputId": "9380f8f5-d73d-49a6-8ff2-0c2075ce0718"
      },
      "outputs": [
        {
          "data": {
            "text/html": [
              "<div>\n",
              "<style scoped>\n",
              "    .dataframe tbody tr th:only-of-type {\n",
              "        vertical-align: middle;\n",
              "    }\n",
              "\n",
              "    .dataframe tbody tr th {\n",
              "        vertical-align: top;\n",
              "    }\n",
              "\n",
              "    .dataframe thead th {\n",
              "        text-align: right;\n",
              "    }\n",
              "</style>\n",
              "<table border=\"1\" class=\"dataframe\">\n",
              "  <thead>\n",
              "    <tr style=\"text-align: right;\">\n",
              "      <th></th>\n",
              "      <th>clean_summary</th>\n",
              "      <th>clean_issue_type</th>\n",
              "      <th>clean_status</th>\n",
              "      <th>clean_project_name</th>\n",
              "      <th>clean_project_type</th>\n",
              "      <th>clean_project_lead</th>\n",
              "      <th>clean_project_description</th>\n",
              "      <th>clean_priority</th>\n",
              "      <th>clean_resolution</th>\n",
              "      <th>clean_task_assignee</th>\n",
              "      <th>task_deadline</th>\n",
              "      <th>text_length</th>\n",
              "    </tr>\n",
              "  </thead>\n",
              "  <tbody>\n",
              "    <tr>\n",
              "      <th>0</th>\n",
              "      <td>implement task dashboard</td>\n",
              "      <td>bug</td>\n",
              "      <td>progress</td>\n",
              "      <td>backendapi</td>\n",
              "      <td>software</td>\n",
              "      <td>jatin raj</td>\n",
              "      <td>internal devops automation tool</td>\n",
              "      <td>low</td>\n",
              "      <td>done</td>\n",
              "      <td>brian kim</td>\n",
              "      <td>tow days</td>\n",
              "      <td>24</td>\n",
              "    </tr>\n",
              "    <tr>\n",
              "      <th>1</th>\n",
              "      <td>add dark mode feature</td>\n",
              "      <td>task</td>\n",
              "      <td>progress</td>\n",
              "      <td>web portal</td>\n",
              "      <td>software</td>\n",
              "      <td>jatin raj</td>\n",
              "      <td>building ai model task sorting</td>\n",
              "      <td>medium</td>\n",
              "      <td>done</td>\n",
              "      <td>shraddha</td>\n",
              "      <td>five days</td>\n",
              "      <td>21</td>\n",
              "    </tr>\n",
              "  </tbody>\n",
              "</table>\n",
              "</div>"
            ],
            "text/plain": [
              "              clean_summary clean_issue_type clean_status clean_project_name  \\\n",
              "0  implement task dashboard              bug     progress         backendapi   \n",
              "1     add dark mode feature             task     progress         web portal   \n",
              "\n",
              "  clean_project_type clean_project_lead        clean_project_description  \\\n",
              "0           software          jatin raj  internal devops automation tool   \n",
              "1           software          jatin raj   building ai model task sorting   \n",
              "\n",
              "  clean_priority clean_resolution clean_task_assignee task_deadline  \\\n",
              "0            low             done           brian kim      tow days   \n",
              "1         medium             done            shraddha     five days   \n",
              "\n",
              "   text_length  \n",
              "0           24  \n",
              "1           21  "
            ]
          },
          "execution_count": 120,
          "metadata": {},
          "output_type": "execute_result"
        }
      ],
      "source": [
        "df.head(2)"
      ]
    },
    {
      "cell_type": "code",
      "execution_count": 121,
      "metadata": {
        "id": "zVgCSrZCwyFG"
      },
      "outputs": [],
      "source": [
        "X = df['clean_summary']\n",
        "# Y = df['clean_issue_type', 'clean_status','clean_project_name', 'clean_project_type', 'clean_priority','clean_resolution']"
      ]
    },
    {
      "cell_type": "code",
      "execution_count": 122,
      "metadata": {
        "id": "4GWI7A83wyFH"
      },
      "outputs": [],
      "source": [
        "Y = df[['clean_issue_type', 'clean_status','clean_project_name', 'clean_project_type','clean_project_lead','clean_project_description', 'clean_priority','clean_resolution','clean_task_assignee','task_deadline']]"
      ]
    },
    {
      "cell_type": "code",
      "execution_count": 123,
      "metadata": {},
      "outputs": [
        {
          "data": {
            "text/html": [
              "<div>\n",
              "<style scoped>\n",
              "    .dataframe tbody tr th:only-of-type {\n",
              "        vertical-align: middle;\n",
              "    }\n",
              "\n",
              "    .dataframe tbody tr th {\n",
              "        vertical-align: top;\n",
              "    }\n",
              "\n",
              "    .dataframe thead th {\n",
              "        text-align: right;\n",
              "    }\n",
              "</style>\n",
              "<table border=\"1\" class=\"dataframe\">\n",
              "  <thead>\n",
              "    <tr style=\"text-align: right;\">\n",
              "      <th></th>\n",
              "      <th>clean_issue_type</th>\n",
              "      <th>clean_status</th>\n",
              "      <th>clean_project_name</th>\n",
              "      <th>clean_project_type</th>\n",
              "      <th>clean_project_lead</th>\n",
              "      <th>clean_project_description</th>\n",
              "      <th>clean_priority</th>\n",
              "      <th>clean_resolution</th>\n",
              "      <th>clean_task_assignee</th>\n",
              "      <th>task_deadline</th>\n",
              "    </tr>\n",
              "  </thead>\n",
              "  <tbody>\n",
              "    <tr>\n",
              "      <th>0</th>\n",
              "      <td>bug</td>\n",
              "      <td>progress</td>\n",
              "      <td>backendapi</td>\n",
              "      <td>software</td>\n",
              "      <td>jatin raj</td>\n",
              "      <td>internal devops automation tool</td>\n",
              "      <td>low</td>\n",
              "      <td>done</td>\n",
              "      <td>brian kim</td>\n",
              "      <td>tow days</td>\n",
              "    </tr>\n",
              "    <tr>\n",
              "      <th>1</th>\n",
              "      <td>task</td>\n",
              "      <td>progress</td>\n",
              "      <td>web portal</td>\n",
              "      <td>software</td>\n",
              "      <td>jatin raj</td>\n",
              "      <td>building ai model task sorting</td>\n",
              "      <td>medium</td>\n",
              "      <td>done</td>\n",
              "      <td>shraddha</td>\n",
              "      <td>five days</td>\n",
              "    </tr>\n",
              "    <tr>\n",
              "      <th>2</th>\n",
              "      <td>bug</td>\n",
              "      <td>progress</td>\n",
              "      <td>mobileapp</td>\n",
              "      <td>software</td>\n",
              "      <td>pooja agarwal</td>\n",
              "      <td>portal customer access</td>\n",
              "      <td>low</td>\n",
              "      <td>progress</td>\n",
              "      <td>alice johnson</td>\n",
              "      <td>tow days</td>\n",
              "    </tr>\n",
              "    <tr>\n",
              "      <th>3</th>\n",
              "      <td>story</td>\n",
              "      <td>progress</td>\n",
              "      <td>aiengine</td>\n",
              "      <td>software</td>\n",
              "      <td>pooja agarwal</td>\n",
              "      <td>building ai model task sorting</td>\n",
              "      <td>critical</td>\n",
              "      <td>progress</td>\n",
              "      <td>pooja agarwal</td>\n",
              "      <td>for days</td>\n",
              "    </tr>\n",
              "    <tr>\n",
              "      <th>4</th>\n",
              "      <td>bug</td>\n",
              "      <td>progress</td>\n",
              "      <td>devopstooling</td>\n",
              "      <td>software</td>\n",
              "      <td>pooja agarwal</td>\n",
              "      <td>building ai model task sorting</td>\n",
              "      <td>critical</td>\n",
              "      <td>progress</td>\n",
              "      <td>alice johnson</td>\n",
              "      <td>one days</td>\n",
              "    </tr>\n",
              "    <tr>\n",
              "      <th>...</th>\n",
              "      <td>...</td>\n",
              "      <td>...</td>\n",
              "      <td>...</td>\n",
              "      <td>...</td>\n",
              "      <td>...</td>\n",
              "      <td>...</td>\n",
              "      <td>...</td>\n",
              "      <td>...</td>\n",
              "      <td>...</td>\n",
              "      <td>...</td>\n",
              "    </tr>\n",
              "    <tr>\n",
              "      <th>1229</th>\n",
              "      <td>story</td>\n",
              "      <td>done</td>\n",
              "      <td>backendapi</td>\n",
              "      <td>mlmodel</td>\n",
              "      <td>brian kim</td>\n",
              "      <td>internal devops automation tool</td>\n",
              "      <td>critical</td>\n",
              "      <td>unresolved</td>\n",
              "      <td>brian kim</td>\n",
              "      <td>tow days</td>\n",
              "    </tr>\n",
              "    <tr>\n",
              "      <th>1230</th>\n",
              "      <td>story</td>\n",
              "      <td>review</td>\n",
              "      <td>aiengine</td>\n",
              "      <td>software</td>\n",
              "      <td>alice johnson</td>\n",
              "      <td>mobile app task management</td>\n",
              "      <td>critical</td>\n",
              "      <td>fixed</td>\n",
              "      <td>brian kim</td>\n",
              "      <td>for days</td>\n",
              "    </tr>\n",
              "    <tr>\n",
              "      <th>1231</th>\n",
              "      <td>bug</td>\n",
              "      <td>review</td>\n",
              "      <td>backendapi</td>\n",
              "      <td>mlmodel</td>\n",
              "      <td>alice johnson</td>\n",
              "      <td>internal devops automation tool</td>\n",
              "      <td>critical</td>\n",
              "      <td>done</td>\n",
              "      <td>brian kim</td>\n",
              "      <td>for days</td>\n",
              "    </tr>\n",
              "    <tr>\n",
              "      <th>1232</th>\n",
              "      <td>bug</td>\n",
              "      <td>review</td>\n",
              "      <td>devopstooling</td>\n",
              "      <td>devops</td>\n",
              "      <td>reema desai</td>\n",
              "      <td>mobile app task management</td>\n",
              "      <td>low</td>\n",
              "      <td>progress</td>\n",
              "      <td>nikhil singh</td>\n",
              "      <td>five days</td>\n",
              "    </tr>\n",
              "    <tr>\n",
              "      <th>1233</th>\n",
              "      <td>task</td>\n",
              "      <td>review</td>\n",
              "      <td>web portal</td>\n",
              "      <td>ops</td>\n",
              "      <td>alice johnson</td>\n",
              "      <td>building ai model task sorting</td>\n",
              "      <td>medium</td>\n",
              "      <td>done</td>\n",
              "      <td>pretty</td>\n",
              "      <td>five days</td>\n",
              "    </tr>\n",
              "  </tbody>\n",
              "</table>\n",
              "<p>1234 rows × 10 columns</p>\n",
              "</div>"
            ],
            "text/plain": [
              "     clean_issue_type clean_status clean_project_name clean_project_type  \\\n",
              "0                 bug     progress         backendapi           software   \n",
              "1                task     progress         web portal           software   \n",
              "2                 bug     progress          mobileapp           software   \n",
              "3               story     progress           aiengine           software   \n",
              "4                 bug     progress      devopstooling           software   \n",
              "...               ...          ...                ...                ...   \n",
              "1229            story         done         backendapi            mlmodel   \n",
              "1230            story       review           aiengine           software   \n",
              "1231              bug       review         backendapi            mlmodel   \n",
              "1232              bug       review      devopstooling             devops   \n",
              "1233             task       review         web portal                ops   \n",
              "\n",
              "     clean_project_lead        clean_project_description clean_priority  \\\n",
              "0             jatin raj  internal devops automation tool            low   \n",
              "1             jatin raj   building ai model task sorting         medium   \n",
              "2         pooja agarwal           portal customer access            low   \n",
              "3         pooja agarwal   building ai model task sorting       critical   \n",
              "4         pooja agarwal   building ai model task sorting       critical   \n",
              "...                 ...                              ...            ...   \n",
              "1229          brian kim  internal devops automation tool       critical   \n",
              "1230      alice johnson       mobile app task management       critical   \n",
              "1231      alice johnson  internal devops automation tool       critical   \n",
              "1232        reema desai       mobile app task management            low   \n",
              "1233      alice johnson   building ai model task sorting         medium   \n",
              "\n",
              "     clean_resolution clean_task_assignee task_deadline  \n",
              "0                done           brian kim      tow days  \n",
              "1                done            shraddha     five days  \n",
              "2            progress       alice johnson      tow days  \n",
              "3            progress       pooja agarwal      for days  \n",
              "4            progress       alice johnson      one days  \n",
              "...               ...                 ...           ...  \n",
              "1229       unresolved           brian kim      tow days  \n",
              "1230            fixed           brian kim      for days  \n",
              "1231             done           brian kim      for days  \n",
              "1232         progress        nikhil singh     five days  \n",
              "1233             done              pretty     five days  \n",
              "\n",
              "[1234 rows x 10 columns]"
            ]
          },
          "execution_count": 123,
          "metadata": {},
          "output_type": "execute_result"
        }
      ],
      "source": [
        "Y"
      ]
    },
    {
      "cell_type": "code",
      "execution_count": 124,
      "metadata": {},
      "outputs": [
        {
          "name": "stderr",
          "output_type": "stream",
          "text": [
            "C:\\Users\\91999\\AppData\\Local\\Temp\\ipykernel_26456\\755280288.py:7: SettingWithCopyWarning: \n",
            "A value is trying to be set on a copy of a slice from a DataFrame.\n",
            "Try using .loc[row_indexer,col_indexer] = value instead\n",
            "\n",
            "See the caveats in the documentation: https://pandas.pydata.org/pandas-docs/stable/user_guide/indexing.html#returning-a-view-versus-a-copy\n",
            "  Y[col] = Y[col].astype(str).fillna('Unknown')\n",
            "C:\\Users\\91999\\AppData\\Local\\Temp\\ipykernel_26456\\755280288.py:8: SettingWithCopyWarning: \n",
            "A value is trying to be set on a copy of a slice from a DataFrame.\n",
            "Try using .loc[row_indexer,col_indexer] = value instead\n",
            "\n",
            "See the caveats in the documentation: https://pandas.pydata.org/pandas-docs/stable/user_guide/indexing.html#returning-a-view-versus-a-copy\n",
            "  Y[col] = le.fit_transform(Y[col])\n",
            "C:\\Users\\91999\\AppData\\Local\\Temp\\ipykernel_26456\\755280288.py:7: SettingWithCopyWarning: \n",
            "A value is trying to be set on a copy of a slice from a DataFrame.\n",
            "Try using .loc[row_indexer,col_indexer] = value instead\n",
            "\n",
            "See the caveats in the documentation: https://pandas.pydata.org/pandas-docs/stable/user_guide/indexing.html#returning-a-view-versus-a-copy\n",
            "  Y[col] = Y[col].astype(str).fillna('Unknown')\n",
            "C:\\Users\\91999\\AppData\\Local\\Temp\\ipykernel_26456\\755280288.py:8: SettingWithCopyWarning: \n",
            "A value is trying to be set on a copy of a slice from a DataFrame.\n",
            "Try using .loc[row_indexer,col_indexer] = value instead\n",
            "\n",
            "See the caveats in the documentation: https://pandas.pydata.org/pandas-docs/stable/user_guide/indexing.html#returning-a-view-versus-a-copy\n",
            "  Y[col] = le.fit_transform(Y[col])\n",
            "C:\\Users\\91999\\AppData\\Local\\Temp\\ipykernel_26456\\755280288.py:7: SettingWithCopyWarning: \n",
            "A value is trying to be set on a copy of a slice from a DataFrame.\n",
            "Try using .loc[row_indexer,col_indexer] = value instead\n",
            "\n",
            "See the caveats in the documentation: https://pandas.pydata.org/pandas-docs/stable/user_guide/indexing.html#returning-a-view-versus-a-copy\n",
            "  Y[col] = Y[col].astype(str).fillna('Unknown')\n",
            "C:\\Users\\91999\\AppData\\Local\\Temp\\ipykernel_26456\\755280288.py:8: SettingWithCopyWarning: \n",
            "A value is trying to be set on a copy of a slice from a DataFrame.\n",
            "Try using .loc[row_indexer,col_indexer] = value instead\n",
            "\n",
            "See the caveats in the documentation: https://pandas.pydata.org/pandas-docs/stable/user_guide/indexing.html#returning-a-view-versus-a-copy\n",
            "  Y[col] = le.fit_transform(Y[col])\n",
            "C:\\Users\\91999\\AppData\\Local\\Temp\\ipykernel_26456\\755280288.py:7: SettingWithCopyWarning: \n",
            "A value is trying to be set on a copy of a slice from a DataFrame.\n",
            "Try using .loc[row_indexer,col_indexer] = value instead\n",
            "\n",
            "See the caveats in the documentation: https://pandas.pydata.org/pandas-docs/stable/user_guide/indexing.html#returning-a-view-versus-a-copy\n",
            "  Y[col] = Y[col].astype(str).fillna('Unknown')\n",
            "C:\\Users\\91999\\AppData\\Local\\Temp\\ipykernel_26456\\755280288.py:8: SettingWithCopyWarning: \n",
            "A value is trying to be set on a copy of a slice from a DataFrame.\n",
            "Try using .loc[row_indexer,col_indexer] = value instead\n",
            "\n",
            "See the caveats in the documentation: https://pandas.pydata.org/pandas-docs/stable/user_guide/indexing.html#returning-a-view-versus-a-copy\n",
            "  Y[col] = le.fit_transform(Y[col])\n",
            "C:\\Users\\91999\\AppData\\Local\\Temp\\ipykernel_26456\\755280288.py:7: SettingWithCopyWarning: \n",
            "A value is trying to be set on a copy of a slice from a DataFrame.\n",
            "Try using .loc[row_indexer,col_indexer] = value instead\n",
            "\n",
            "See the caveats in the documentation: https://pandas.pydata.org/pandas-docs/stable/user_guide/indexing.html#returning-a-view-versus-a-copy\n",
            "  Y[col] = Y[col].astype(str).fillna('Unknown')\n",
            "C:\\Users\\91999\\AppData\\Local\\Temp\\ipykernel_26456\\755280288.py:8: SettingWithCopyWarning: \n",
            "A value is trying to be set on a copy of a slice from a DataFrame.\n",
            "Try using .loc[row_indexer,col_indexer] = value instead\n",
            "\n",
            "See the caveats in the documentation: https://pandas.pydata.org/pandas-docs/stable/user_guide/indexing.html#returning-a-view-versus-a-copy\n",
            "  Y[col] = le.fit_transform(Y[col])\n",
            "C:\\Users\\91999\\AppData\\Local\\Temp\\ipykernel_26456\\755280288.py:7: SettingWithCopyWarning: \n",
            "A value is trying to be set on a copy of a slice from a DataFrame.\n",
            "Try using .loc[row_indexer,col_indexer] = value instead\n",
            "\n",
            "See the caveats in the documentation: https://pandas.pydata.org/pandas-docs/stable/user_guide/indexing.html#returning-a-view-versus-a-copy\n",
            "  Y[col] = Y[col].astype(str).fillna('Unknown')\n",
            "C:\\Users\\91999\\AppData\\Local\\Temp\\ipykernel_26456\\755280288.py:8: SettingWithCopyWarning: \n",
            "A value is trying to be set on a copy of a slice from a DataFrame.\n",
            "Try using .loc[row_indexer,col_indexer] = value instead\n",
            "\n",
            "See the caveats in the documentation: https://pandas.pydata.org/pandas-docs/stable/user_guide/indexing.html#returning-a-view-versus-a-copy\n",
            "  Y[col] = le.fit_transform(Y[col])\n",
            "C:\\Users\\91999\\AppData\\Local\\Temp\\ipykernel_26456\\755280288.py:7: SettingWithCopyWarning: \n",
            "A value is trying to be set on a copy of a slice from a DataFrame.\n",
            "Try using .loc[row_indexer,col_indexer] = value instead\n",
            "\n",
            "See the caveats in the documentation: https://pandas.pydata.org/pandas-docs/stable/user_guide/indexing.html#returning-a-view-versus-a-copy\n",
            "  Y[col] = Y[col].astype(str).fillna('Unknown')\n",
            "C:\\Users\\91999\\AppData\\Local\\Temp\\ipykernel_26456\\755280288.py:8: SettingWithCopyWarning: \n",
            "A value is trying to be set on a copy of a slice from a DataFrame.\n",
            "Try using .loc[row_indexer,col_indexer] = value instead\n",
            "\n",
            "See the caveats in the documentation: https://pandas.pydata.org/pandas-docs/stable/user_guide/indexing.html#returning-a-view-versus-a-copy\n",
            "  Y[col] = le.fit_transform(Y[col])\n",
            "C:\\Users\\91999\\AppData\\Local\\Temp\\ipykernel_26456\\755280288.py:7: SettingWithCopyWarning: \n",
            "A value is trying to be set on a copy of a slice from a DataFrame.\n",
            "Try using .loc[row_indexer,col_indexer] = value instead\n",
            "\n",
            "See the caveats in the documentation: https://pandas.pydata.org/pandas-docs/stable/user_guide/indexing.html#returning-a-view-versus-a-copy\n",
            "  Y[col] = Y[col].astype(str).fillna('Unknown')\n",
            "C:\\Users\\91999\\AppData\\Local\\Temp\\ipykernel_26456\\755280288.py:8: SettingWithCopyWarning: \n",
            "A value is trying to be set on a copy of a slice from a DataFrame.\n",
            "Try using .loc[row_indexer,col_indexer] = value instead\n",
            "\n",
            "See the caveats in the documentation: https://pandas.pydata.org/pandas-docs/stable/user_guide/indexing.html#returning-a-view-versus-a-copy\n",
            "  Y[col] = le.fit_transform(Y[col])\n",
            "C:\\Users\\91999\\AppData\\Local\\Temp\\ipykernel_26456\\755280288.py:7: SettingWithCopyWarning: \n",
            "A value is trying to be set on a copy of a slice from a DataFrame.\n",
            "Try using .loc[row_indexer,col_indexer] = value instead\n",
            "\n",
            "See the caveats in the documentation: https://pandas.pydata.org/pandas-docs/stable/user_guide/indexing.html#returning-a-view-versus-a-copy\n",
            "  Y[col] = Y[col].astype(str).fillna('Unknown')\n",
            "C:\\Users\\91999\\AppData\\Local\\Temp\\ipykernel_26456\\755280288.py:8: SettingWithCopyWarning: \n",
            "A value is trying to be set on a copy of a slice from a DataFrame.\n",
            "Try using .loc[row_indexer,col_indexer] = value instead\n",
            "\n",
            "See the caveats in the documentation: https://pandas.pydata.org/pandas-docs/stable/user_guide/indexing.html#returning-a-view-versus-a-copy\n",
            "  Y[col] = le.fit_transform(Y[col])\n",
            "C:\\Users\\91999\\AppData\\Local\\Temp\\ipykernel_26456\\755280288.py:7: SettingWithCopyWarning: \n",
            "A value is trying to be set on a copy of a slice from a DataFrame.\n",
            "Try using .loc[row_indexer,col_indexer] = value instead\n",
            "\n",
            "See the caveats in the documentation: https://pandas.pydata.org/pandas-docs/stable/user_guide/indexing.html#returning-a-view-versus-a-copy\n",
            "  Y[col] = Y[col].astype(str).fillna('Unknown')\n",
            "C:\\Users\\91999\\AppData\\Local\\Temp\\ipykernel_26456\\755280288.py:8: SettingWithCopyWarning: \n",
            "A value is trying to be set on a copy of a slice from a DataFrame.\n",
            "Try using .loc[row_indexer,col_indexer] = value instead\n",
            "\n",
            "See the caveats in the documentation: https://pandas.pydata.org/pandas-docs/stable/user_guide/indexing.html#returning-a-view-versus-a-copy\n",
            "  Y[col] = le.fit_transform(Y[col])\n"
          ]
        }
      ],
      "source": [
        "label_encoders = {}\n",
        "for col in Y.columns:\n",
        "    if Y[col].dtype == 'object':\n",
        "        le = LabelEncoder()\n",
        "        # Handle potential NaN values before encoding\n",
        "        # Convert to string first to ensure fillna works consistently\n",
        "        Y[col] = Y[col].astype(str).fillna('Unknown')\n",
        "        Y[col] = le.fit_transform(Y[col])\n",
        "        label_encoders[col] = le # Store the fitted encoder"
      ]
    },
    {
      "cell_type": "code",
      "execution_count": 125,
      "metadata": {},
      "outputs": [
        {
          "data": {
            "text/html": [
              "<div>\n",
              "<style scoped>\n",
              "    .dataframe tbody tr th:only-of-type {\n",
              "        vertical-align: middle;\n",
              "    }\n",
              "\n",
              "    .dataframe tbody tr th {\n",
              "        vertical-align: top;\n",
              "    }\n",
              "\n",
              "    .dataframe thead th {\n",
              "        text-align: right;\n",
              "    }\n",
              "</style>\n",
              "<table border=\"1\" class=\"dataframe\">\n",
              "  <thead>\n",
              "    <tr style=\"text-align: right;\">\n",
              "      <th></th>\n",
              "      <th>clean_issue_type</th>\n",
              "      <th>clean_status</th>\n",
              "      <th>clean_project_name</th>\n",
              "      <th>clean_project_type</th>\n",
              "      <th>clean_project_lead</th>\n",
              "      <th>clean_project_description</th>\n",
              "      <th>clean_priority</th>\n",
              "      <th>clean_resolution</th>\n",
              "      <th>clean_task_assignee</th>\n",
              "      <th>task_deadline</th>\n",
              "    </tr>\n",
              "  </thead>\n",
              "  <tbody>\n",
              "    <tr>\n",
              "      <th>0</th>\n",
              "      <td>0</td>\n",
              "      <td>1</td>\n",
              "      <td>1</td>\n",
              "      <td>5</td>\n",
              "      <td>2</td>\n",
              "      <td>2</td>\n",
              "      <td>2</td>\n",
              "      <td>0</td>\n",
              "      <td>2</td>\n",
              "      <td>3</td>\n",
              "    </tr>\n",
              "    <tr>\n",
              "      <th>1</th>\n",
              "      <td>2</td>\n",
              "      <td>1</td>\n",
              "      <td>5</td>\n",
              "      <td>5</td>\n",
              "      <td>2</td>\n",
              "      <td>0</td>\n",
              "      <td>3</td>\n",
              "      <td>0</td>\n",
              "      <td>9</td>\n",
              "      <td>0</td>\n",
              "    </tr>\n",
              "    <tr>\n",
              "      <th>2</th>\n",
              "      <td>0</td>\n",
              "      <td>1</td>\n",
              "      <td>4</td>\n",
              "      <td>5</td>\n",
              "      <td>4</td>\n",
              "      <td>4</td>\n",
              "      <td>2</td>\n",
              "      <td>2</td>\n",
              "      <td>1</td>\n",
              "      <td>3</td>\n",
              "    </tr>\n",
              "    <tr>\n",
              "      <th>3</th>\n",
              "      <td>1</td>\n",
              "      <td>1</td>\n",
              "      <td>0</td>\n",
              "      <td>5</td>\n",
              "      <td>4</td>\n",
              "      <td>0</td>\n",
              "      <td>0</td>\n",
              "      <td>2</td>\n",
              "      <td>6</td>\n",
              "      <td>1</td>\n",
              "    </tr>\n",
              "    <tr>\n",
              "      <th>4</th>\n",
              "      <td>0</td>\n",
              "      <td>1</td>\n",
              "      <td>2</td>\n",
              "      <td>5</td>\n",
              "      <td>4</td>\n",
              "      <td>0</td>\n",
              "      <td>0</td>\n",
              "      <td>2</td>\n",
              "      <td>1</td>\n",
              "      <td>2</td>\n",
              "    </tr>\n",
              "    <tr>\n",
              "      <th>...</th>\n",
              "      <td>...</td>\n",
              "      <td>...</td>\n",
              "      <td>...</td>\n",
              "      <td>...</td>\n",
              "      <td>...</td>\n",
              "      <td>...</td>\n",
              "      <td>...</td>\n",
              "      <td>...</td>\n",
              "      <td>...</td>\n",
              "      <td>...</td>\n",
              "    </tr>\n",
              "    <tr>\n",
              "      <th>1229</th>\n",
              "      <td>1</td>\n",
              "      <td>0</td>\n",
              "      <td>1</td>\n",
              "      <td>2</td>\n",
              "      <td>1</td>\n",
              "      <td>2</td>\n",
              "      <td>0</td>\n",
              "      <td>3</td>\n",
              "      <td>2</td>\n",
              "      <td>3</td>\n",
              "    </tr>\n",
              "    <tr>\n",
              "      <th>1230</th>\n",
              "      <td>1</td>\n",
              "      <td>2</td>\n",
              "      <td>0</td>\n",
              "      <td>5</td>\n",
              "      <td>0</td>\n",
              "      <td>3</td>\n",
              "      <td>0</td>\n",
              "      <td>1</td>\n",
              "      <td>2</td>\n",
              "      <td>1</td>\n",
              "    </tr>\n",
              "    <tr>\n",
              "      <th>1231</th>\n",
              "      <td>0</td>\n",
              "      <td>2</td>\n",
              "      <td>1</td>\n",
              "      <td>2</td>\n",
              "      <td>0</td>\n",
              "      <td>2</td>\n",
              "      <td>0</td>\n",
              "      <td>0</td>\n",
              "      <td>2</td>\n",
              "      <td>1</td>\n",
              "    </tr>\n",
              "    <tr>\n",
              "      <th>1232</th>\n",
              "      <td>0</td>\n",
              "      <td>2</td>\n",
              "      <td>2</td>\n",
              "      <td>1</td>\n",
              "      <td>5</td>\n",
              "      <td>3</td>\n",
              "      <td>2</td>\n",
              "      <td>2</td>\n",
              "      <td>5</td>\n",
              "      <td>0</td>\n",
              "    </tr>\n",
              "    <tr>\n",
              "      <th>1233</th>\n",
              "      <td>2</td>\n",
              "      <td>2</td>\n",
              "      <td>5</td>\n",
              "      <td>3</td>\n",
              "      <td>0</td>\n",
              "      <td>0</td>\n",
              "      <td>3</td>\n",
              "      <td>0</td>\n",
              "      <td>7</td>\n",
              "      <td>0</td>\n",
              "    </tr>\n",
              "  </tbody>\n",
              "</table>\n",
              "<p>1234 rows × 10 columns</p>\n",
              "</div>"
            ],
            "text/plain": [
              "      clean_issue_type  clean_status  clean_project_name  clean_project_type  \\\n",
              "0                    0             1                   1                   5   \n",
              "1                    2             1                   5                   5   \n",
              "2                    0             1                   4                   5   \n",
              "3                    1             1                   0                   5   \n",
              "4                    0             1                   2                   5   \n",
              "...                ...           ...                 ...                 ...   \n",
              "1229                 1             0                   1                   2   \n",
              "1230                 1             2                   0                   5   \n",
              "1231                 0             2                   1                   2   \n",
              "1232                 0             2                   2                   1   \n",
              "1233                 2             2                   5                   3   \n",
              "\n",
              "      clean_project_lead  clean_project_description  clean_priority  \\\n",
              "0                      2                          2               2   \n",
              "1                      2                          0               3   \n",
              "2                      4                          4               2   \n",
              "3                      4                          0               0   \n",
              "4                      4                          0               0   \n",
              "...                  ...                        ...             ...   \n",
              "1229                   1                          2               0   \n",
              "1230                   0                          3               0   \n",
              "1231                   0                          2               0   \n",
              "1232                   5                          3               2   \n",
              "1233                   0                          0               3   \n",
              "\n",
              "      clean_resolution  clean_task_assignee  task_deadline  \n",
              "0                    0                    2              3  \n",
              "1                    0                    9              0  \n",
              "2                    2                    1              3  \n",
              "3                    2                    6              1  \n",
              "4                    2                    1              2  \n",
              "...                ...                  ...            ...  \n",
              "1229                 3                    2              3  \n",
              "1230                 1                    2              1  \n",
              "1231                 0                    2              1  \n",
              "1232                 2                    5              0  \n",
              "1233                 0                    7              0  \n",
              "\n",
              "[1234 rows x 10 columns]"
            ]
          },
          "execution_count": 125,
          "metadata": {},
          "output_type": "execute_result"
        }
      ],
      "source": [
        "Y"
      ]
    },
    {
      "cell_type": "code",
      "execution_count": 126,
      "metadata": {
        "id": "sRIHRVvOEkSp"
      },
      "outputs": [],
      "source": [
        "# # 🔹 Step 1: Convert datetime to categorical bins\n",
        "# def process_dates(df):\n",
        "#     df['task_started'] = pd.to_datetime(df['task_started'], errors='coerce')\n",
        "#     df['task_deadline'] = pd.to_datetime(df['task_deadline'], errors='coerce')\n",
        "\n",
        "#     df['start_dayofweek'] = df['task_started'].dt.dayofweek\n",
        "#     df['start_hour'] = df['task_started'].dt.hour\n",
        "#     df['deadline_in_days'] = (df['task_deadline'] - df['task_started']).dt.days\n",
        "\n",
        "#     return df[['start_dayofweek', 'start_hour', 'deadline_in_days']]"
      ]
    },
    {
      "cell_type": "code",
      "execution_count": 46,
      "metadata": {},
      "outputs": [],
      "source": [
        "# 🔹 Assume you already have X (text) and Y (multi-output dataframe)\n",
        "# If task_started and task_deadline are part of Y, extract and process them first\n",
        "# date_features = process_dates(Y.copy())"
      ]
    },
    {
      "cell_type": "code",
      "execution_count": 47,
      "metadata": {},
      "outputs": [],
      "source": [
        "# Remove original datetime columns from target\n",
        "# Y = Y.drop(columns=['task_started', 'task_deadline'])"
      ]
    },
    {
      "cell_type": "code",
      "execution_count": 48,
      "metadata": {},
      "outputs": [],
      "source": [
        "# date_features"
      ]
    },
    {
      "cell_type": "code",
      "execution_count": 51,
      "metadata": {},
      "outputs": [],
      "source": [
        "# Example: Merge on index\n",
        "# data_dff = pd.merge(Y, date_features, left_index=True, right_index=True, how='inner')"
      ]
    },
    {
      "cell_type": "code",
      "execution_count": 52,
      "metadata": {},
      "outputs": [],
      "source": [
        "# data_dff"
      ]
    },
    {
      "cell_type": "code",
      "execution_count": 127,
      "metadata": {
        "colab": {
          "base_uri": "https://localhost:8080/",
          "height": 495
        },
        "id": "hVNKgSnKFnCw",
        "outputId": "6c386f1a-0e51-40aa-efb4-e3512f28d21a"
      },
      "outputs": [
        {
          "data": {
            "text/html": [
              "<div>\n",
              "<style scoped>\n",
              "    .dataframe tbody tr th:only-of-type {\n",
              "        vertical-align: middle;\n",
              "    }\n",
              "\n",
              "    .dataframe tbody tr th {\n",
              "        vertical-align: top;\n",
              "    }\n",
              "\n",
              "    .dataframe thead th {\n",
              "        text-align: right;\n",
              "    }\n",
              "</style>\n",
              "<table border=\"1\" class=\"dataframe\">\n",
              "  <thead>\n",
              "    <tr style=\"text-align: right;\">\n",
              "      <th></th>\n",
              "      <th>clean_issue_type</th>\n",
              "      <th>clean_status</th>\n",
              "      <th>clean_project_name</th>\n",
              "      <th>clean_project_type</th>\n",
              "      <th>clean_project_lead</th>\n",
              "      <th>clean_project_description</th>\n",
              "      <th>clean_priority</th>\n",
              "      <th>clean_resolution</th>\n",
              "      <th>clean_task_assignee</th>\n",
              "      <th>task_deadline</th>\n",
              "    </tr>\n",
              "  </thead>\n",
              "  <tbody>\n",
              "    <tr>\n",
              "      <th>0</th>\n",
              "      <td>0</td>\n",
              "      <td>1</td>\n",
              "      <td>1</td>\n",
              "      <td>5</td>\n",
              "      <td>2</td>\n",
              "      <td>2</td>\n",
              "      <td>2</td>\n",
              "      <td>0</td>\n",
              "      <td>2</td>\n",
              "      <td>3</td>\n",
              "    </tr>\n",
              "    <tr>\n",
              "      <th>1</th>\n",
              "      <td>2</td>\n",
              "      <td>1</td>\n",
              "      <td>5</td>\n",
              "      <td>5</td>\n",
              "      <td>2</td>\n",
              "      <td>0</td>\n",
              "      <td>3</td>\n",
              "      <td>0</td>\n",
              "      <td>9</td>\n",
              "      <td>0</td>\n",
              "    </tr>\n",
              "    <tr>\n",
              "      <th>2</th>\n",
              "      <td>0</td>\n",
              "      <td>1</td>\n",
              "      <td>4</td>\n",
              "      <td>5</td>\n",
              "      <td>4</td>\n",
              "      <td>4</td>\n",
              "      <td>2</td>\n",
              "      <td>2</td>\n",
              "      <td>1</td>\n",
              "      <td>3</td>\n",
              "    </tr>\n",
              "    <tr>\n",
              "      <th>3</th>\n",
              "      <td>1</td>\n",
              "      <td>1</td>\n",
              "      <td>0</td>\n",
              "      <td>5</td>\n",
              "      <td>4</td>\n",
              "      <td>0</td>\n",
              "      <td>0</td>\n",
              "      <td>2</td>\n",
              "      <td>6</td>\n",
              "      <td>1</td>\n",
              "    </tr>\n",
              "    <tr>\n",
              "      <th>4</th>\n",
              "      <td>0</td>\n",
              "      <td>1</td>\n",
              "      <td>2</td>\n",
              "      <td>5</td>\n",
              "      <td>4</td>\n",
              "      <td>0</td>\n",
              "      <td>0</td>\n",
              "      <td>2</td>\n",
              "      <td>1</td>\n",
              "      <td>2</td>\n",
              "    </tr>\n",
              "    <tr>\n",
              "      <th>...</th>\n",
              "      <td>...</td>\n",
              "      <td>...</td>\n",
              "      <td>...</td>\n",
              "      <td>...</td>\n",
              "      <td>...</td>\n",
              "      <td>...</td>\n",
              "      <td>...</td>\n",
              "      <td>...</td>\n",
              "      <td>...</td>\n",
              "      <td>...</td>\n",
              "    </tr>\n",
              "    <tr>\n",
              "      <th>1229</th>\n",
              "      <td>1</td>\n",
              "      <td>0</td>\n",
              "      <td>1</td>\n",
              "      <td>2</td>\n",
              "      <td>1</td>\n",
              "      <td>2</td>\n",
              "      <td>0</td>\n",
              "      <td>3</td>\n",
              "      <td>2</td>\n",
              "      <td>3</td>\n",
              "    </tr>\n",
              "    <tr>\n",
              "      <th>1230</th>\n",
              "      <td>1</td>\n",
              "      <td>2</td>\n",
              "      <td>0</td>\n",
              "      <td>5</td>\n",
              "      <td>0</td>\n",
              "      <td>3</td>\n",
              "      <td>0</td>\n",
              "      <td>1</td>\n",
              "      <td>2</td>\n",
              "      <td>1</td>\n",
              "    </tr>\n",
              "    <tr>\n",
              "      <th>1231</th>\n",
              "      <td>0</td>\n",
              "      <td>2</td>\n",
              "      <td>1</td>\n",
              "      <td>2</td>\n",
              "      <td>0</td>\n",
              "      <td>2</td>\n",
              "      <td>0</td>\n",
              "      <td>0</td>\n",
              "      <td>2</td>\n",
              "      <td>1</td>\n",
              "    </tr>\n",
              "    <tr>\n",
              "      <th>1232</th>\n",
              "      <td>0</td>\n",
              "      <td>2</td>\n",
              "      <td>2</td>\n",
              "      <td>1</td>\n",
              "      <td>5</td>\n",
              "      <td>3</td>\n",
              "      <td>2</td>\n",
              "      <td>2</td>\n",
              "      <td>5</td>\n",
              "      <td>0</td>\n",
              "    </tr>\n",
              "    <tr>\n",
              "      <th>1233</th>\n",
              "      <td>2</td>\n",
              "      <td>2</td>\n",
              "      <td>5</td>\n",
              "      <td>3</td>\n",
              "      <td>0</td>\n",
              "      <td>0</td>\n",
              "      <td>3</td>\n",
              "      <td>0</td>\n",
              "      <td>7</td>\n",
              "      <td>0</td>\n",
              "    </tr>\n",
              "  </tbody>\n",
              "</table>\n",
              "<p>1234 rows × 10 columns</p>\n",
              "</div>"
            ],
            "text/plain": [
              "      clean_issue_type  clean_status  clean_project_name  clean_project_type  \\\n",
              "0                    0             1                   1                   5   \n",
              "1                    2             1                   5                   5   \n",
              "2                    0             1                   4                   5   \n",
              "3                    1             1                   0                   5   \n",
              "4                    0             1                   2                   5   \n",
              "...                ...           ...                 ...                 ...   \n",
              "1229                 1             0                   1                   2   \n",
              "1230                 1             2                   0                   5   \n",
              "1231                 0             2                   1                   2   \n",
              "1232                 0             2                   2                   1   \n",
              "1233                 2             2                   5                   3   \n",
              "\n",
              "      clean_project_lead  clean_project_description  clean_priority  \\\n",
              "0                      2                          2               2   \n",
              "1                      2                          0               3   \n",
              "2                      4                          4               2   \n",
              "3                      4                          0               0   \n",
              "4                      4                          0               0   \n",
              "...                  ...                        ...             ...   \n",
              "1229                   1                          2               0   \n",
              "1230                   0                          3               0   \n",
              "1231                   0                          2               0   \n",
              "1232                   5                          3               2   \n",
              "1233                   0                          0               3   \n",
              "\n",
              "      clean_resolution  clean_task_assignee  task_deadline  \n",
              "0                    0                    2              3  \n",
              "1                    0                    9              0  \n",
              "2                    2                    1              3  \n",
              "3                    2                    6              1  \n",
              "4                    2                    1              2  \n",
              "...                ...                  ...            ...  \n",
              "1229                 3                    2              3  \n",
              "1230                 1                    2              1  \n",
              "1231                 0                    2              1  \n",
              "1232                 2                    5              0  \n",
              "1233                 0                    7              0  \n",
              "\n",
              "[1234 rows x 10 columns]"
            ]
          },
          "execution_count": 127,
          "metadata": {},
          "output_type": "execute_result"
        }
      ],
      "source": [
        "Y"
      ]
    },
    {
      "cell_type": "code",
      "execution_count": 128,
      "metadata": {
        "colab": {
          "base_uri": "https://localhost:8080/",
          "height": 458
        },
        "id": "coAmPml5d2je",
        "outputId": "e731c3bc-eb18-4a52-f002-82f249678504"
      },
      "outputs": [
        {
          "data": {
            "text/plain": [
              "0                                implement task dashboard\n",
              "1                                   add dark mode feature\n",
              "2                                    design splash screen\n",
              "3                                    design splash screen\n",
              "4                                         revamp login ui\n",
              "                              ...                        \n",
              "1229                        oauth fails unable get secret\n",
              "1230              sourcetree window app crash upon launch\n",
              "1231       launch ssh agent fails code system git openssh\n",
              "1232                                     case sensitivity\n",
              "1233    sourcetree error many invalid password attempt...\n",
              "Name: clean_summary, Length: 1234, dtype: object"
            ]
          },
          "execution_count": 128,
          "metadata": {},
          "output_type": "execute_result"
        }
      ],
      "source": [
        "X"
      ]
    },
    {
      "cell_type": "code",
      "execution_count": 129,
      "metadata": {
        "colab": {
          "base_uri": "https://localhost:8080/",
          "height": 443
        },
        "id": "OcgEcmdQeZr4",
        "outputId": "b7fc068a-49b0-42b3-ad07-30a5524fab5e"
      },
      "outputs": [
        {
          "data": {
            "text/html": [
              "<div>\n",
              "<style scoped>\n",
              "    .dataframe tbody tr th:only-of-type {\n",
              "        vertical-align: middle;\n",
              "    }\n",
              "\n",
              "    .dataframe tbody tr th {\n",
              "        vertical-align: top;\n",
              "    }\n",
              "\n",
              "    .dataframe thead th {\n",
              "        text-align: right;\n",
              "    }\n",
              "</style>\n",
              "<table border=\"1\" class=\"dataframe\">\n",
              "  <thead>\n",
              "    <tr style=\"text-align: right;\">\n",
              "      <th></th>\n",
              "      <th>clean_issue_type</th>\n",
              "      <th>clean_status</th>\n",
              "      <th>clean_project_name</th>\n",
              "      <th>clean_project_type</th>\n",
              "      <th>clean_project_lead</th>\n",
              "      <th>clean_project_description</th>\n",
              "      <th>clean_priority</th>\n",
              "      <th>clean_resolution</th>\n",
              "      <th>clean_task_assignee</th>\n",
              "      <th>task_deadline</th>\n",
              "    </tr>\n",
              "  </thead>\n",
              "  <tbody>\n",
              "    <tr>\n",
              "      <th>0</th>\n",
              "      <td>0</td>\n",
              "      <td>1</td>\n",
              "      <td>1</td>\n",
              "      <td>5</td>\n",
              "      <td>2</td>\n",
              "      <td>2</td>\n",
              "      <td>2</td>\n",
              "      <td>0</td>\n",
              "      <td>2</td>\n",
              "      <td>3</td>\n",
              "    </tr>\n",
              "    <tr>\n",
              "      <th>1</th>\n",
              "      <td>2</td>\n",
              "      <td>1</td>\n",
              "      <td>5</td>\n",
              "      <td>5</td>\n",
              "      <td>2</td>\n",
              "      <td>0</td>\n",
              "      <td>3</td>\n",
              "      <td>0</td>\n",
              "      <td>9</td>\n",
              "      <td>0</td>\n",
              "    </tr>\n",
              "    <tr>\n",
              "      <th>2</th>\n",
              "      <td>0</td>\n",
              "      <td>1</td>\n",
              "      <td>4</td>\n",
              "      <td>5</td>\n",
              "      <td>4</td>\n",
              "      <td>4</td>\n",
              "      <td>2</td>\n",
              "      <td>2</td>\n",
              "      <td>1</td>\n",
              "      <td>3</td>\n",
              "    </tr>\n",
              "    <tr>\n",
              "      <th>3</th>\n",
              "      <td>1</td>\n",
              "      <td>1</td>\n",
              "      <td>0</td>\n",
              "      <td>5</td>\n",
              "      <td>4</td>\n",
              "      <td>0</td>\n",
              "      <td>0</td>\n",
              "      <td>2</td>\n",
              "      <td>6</td>\n",
              "      <td>1</td>\n",
              "    </tr>\n",
              "    <tr>\n",
              "      <th>4</th>\n",
              "      <td>0</td>\n",
              "      <td>1</td>\n",
              "      <td>2</td>\n",
              "      <td>5</td>\n",
              "      <td>4</td>\n",
              "      <td>0</td>\n",
              "      <td>0</td>\n",
              "      <td>2</td>\n",
              "      <td>1</td>\n",
              "      <td>2</td>\n",
              "    </tr>\n",
              "    <tr>\n",
              "      <th>...</th>\n",
              "      <td>...</td>\n",
              "      <td>...</td>\n",
              "      <td>...</td>\n",
              "      <td>...</td>\n",
              "      <td>...</td>\n",
              "      <td>...</td>\n",
              "      <td>...</td>\n",
              "      <td>...</td>\n",
              "      <td>...</td>\n",
              "      <td>...</td>\n",
              "    </tr>\n",
              "    <tr>\n",
              "      <th>1229</th>\n",
              "      <td>1</td>\n",
              "      <td>0</td>\n",
              "      <td>1</td>\n",
              "      <td>2</td>\n",
              "      <td>1</td>\n",
              "      <td>2</td>\n",
              "      <td>0</td>\n",
              "      <td>3</td>\n",
              "      <td>2</td>\n",
              "      <td>3</td>\n",
              "    </tr>\n",
              "    <tr>\n",
              "      <th>1230</th>\n",
              "      <td>1</td>\n",
              "      <td>2</td>\n",
              "      <td>0</td>\n",
              "      <td>5</td>\n",
              "      <td>0</td>\n",
              "      <td>3</td>\n",
              "      <td>0</td>\n",
              "      <td>1</td>\n",
              "      <td>2</td>\n",
              "      <td>1</td>\n",
              "    </tr>\n",
              "    <tr>\n",
              "      <th>1231</th>\n",
              "      <td>0</td>\n",
              "      <td>2</td>\n",
              "      <td>1</td>\n",
              "      <td>2</td>\n",
              "      <td>0</td>\n",
              "      <td>2</td>\n",
              "      <td>0</td>\n",
              "      <td>0</td>\n",
              "      <td>2</td>\n",
              "      <td>1</td>\n",
              "    </tr>\n",
              "    <tr>\n",
              "      <th>1232</th>\n",
              "      <td>0</td>\n",
              "      <td>2</td>\n",
              "      <td>2</td>\n",
              "      <td>1</td>\n",
              "      <td>5</td>\n",
              "      <td>3</td>\n",
              "      <td>2</td>\n",
              "      <td>2</td>\n",
              "      <td>5</td>\n",
              "      <td>0</td>\n",
              "    </tr>\n",
              "    <tr>\n",
              "      <th>1233</th>\n",
              "      <td>2</td>\n",
              "      <td>2</td>\n",
              "      <td>5</td>\n",
              "      <td>3</td>\n",
              "      <td>0</td>\n",
              "      <td>0</td>\n",
              "      <td>3</td>\n",
              "      <td>0</td>\n",
              "      <td>7</td>\n",
              "      <td>0</td>\n",
              "    </tr>\n",
              "  </tbody>\n",
              "</table>\n",
              "<p>1234 rows × 10 columns</p>\n",
              "</div>"
            ],
            "text/plain": [
              "      clean_issue_type  clean_status  clean_project_name  clean_project_type  \\\n",
              "0                    0             1                   1                   5   \n",
              "1                    2             1                   5                   5   \n",
              "2                    0             1                   4                   5   \n",
              "3                    1             1                   0                   5   \n",
              "4                    0             1                   2                   5   \n",
              "...                ...           ...                 ...                 ...   \n",
              "1229                 1             0                   1                   2   \n",
              "1230                 1             2                   0                   5   \n",
              "1231                 0             2                   1                   2   \n",
              "1232                 0             2                   2                   1   \n",
              "1233                 2             2                   5                   3   \n",
              "\n",
              "      clean_project_lead  clean_project_description  clean_priority  \\\n",
              "0                      2                          2               2   \n",
              "1                      2                          0               3   \n",
              "2                      4                          4               2   \n",
              "3                      4                          0               0   \n",
              "4                      4                          0               0   \n",
              "...                  ...                        ...             ...   \n",
              "1229                   1                          2               0   \n",
              "1230                   0                          3               0   \n",
              "1231                   0                          2               0   \n",
              "1232                   5                          3               2   \n",
              "1233                   0                          0               3   \n",
              "\n",
              "      clean_resolution  clean_task_assignee  task_deadline  \n",
              "0                    0                    2              3  \n",
              "1                    0                    9              0  \n",
              "2                    2                    1              3  \n",
              "3                    2                    6              1  \n",
              "4                    2                    1              2  \n",
              "...                ...                  ...            ...  \n",
              "1229                 3                    2              3  \n",
              "1230                 1                    2              1  \n",
              "1231                 0                    2              1  \n",
              "1232                 2                    5              0  \n",
              "1233                 0                    7              0  \n",
              "\n",
              "[1234 rows x 10 columns]"
            ]
          },
          "execution_count": 129,
          "metadata": {},
          "output_type": "execute_result"
        }
      ],
      "source": [
        "Y"
      ]
    },
    {
      "cell_type": "code",
      "execution_count": 130,
      "metadata": {},
      "outputs": [],
      "source": [
        "# TF-IDF Vectorizer\n",
        "vectorizer = TfidfVectorizer(max_features=5000)\n",
        "X_vect = vectorizer.fit_transform(X)"
      ]
    },
    {
      "cell_type": "code",
      "execution_count": 131,
      "metadata": {},
      "outputs": [],
      "source": [
        "# Train/Test split (optional)\n",
        "X_train, X_test, Y_train, Y_test = train_test_split(X_vect, Y, test_size=0.2, random_state=42)\n"
      ]
    },
    {
      "cell_type": "code",
      "execution_count": 132,
      "metadata": {},
      "outputs": [
        {
          "data": {
            "text/html": [
              "<style>#sk-container-id-2 {\n",
              "  /* Definition of color scheme common for light and dark mode */\n",
              "  --sklearn-color-text: #000;\n",
              "  --sklearn-color-text-muted: #666;\n",
              "  --sklearn-color-line: gray;\n",
              "  /* Definition of color scheme for unfitted estimators */\n",
              "  --sklearn-color-unfitted-level-0: #fff5e6;\n",
              "  --sklearn-color-unfitted-level-1: #f6e4d2;\n",
              "  --sklearn-color-unfitted-level-2: #ffe0b3;\n",
              "  --sklearn-color-unfitted-level-3: chocolate;\n",
              "  /* Definition of color scheme for fitted estimators */\n",
              "  --sklearn-color-fitted-level-0: #f0f8ff;\n",
              "  --sklearn-color-fitted-level-1: #d4ebff;\n",
              "  --sklearn-color-fitted-level-2: #b3dbfd;\n",
              "  --sklearn-color-fitted-level-3: cornflowerblue;\n",
              "\n",
              "  /* Specific color for light theme */\n",
              "  --sklearn-color-text-on-default-background: var(--sg-text-color, var(--theme-code-foreground, var(--jp-content-font-color1, black)));\n",
              "  --sklearn-color-background: var(--sg-background-color, var(--theme-background, var(--jp-layout-color0, white)));\n",
              "  --sklearn-color-border-box: var(--sg-text-color, var(--theme-code-foreground, var(--jp-content-font-color1, black)));\n",
              "  --sklearn-color-icon: #696969;\n",
              "\n",
              "  @media (prefers-color-scheme: dark) {\n",
              "    /* Redefinition of color scheme for dark theme */\n",
              "    --sklearn-color-text-on-default-background: var(--sg-text-color, var(--theme-code-foreground, var(--jp-content-font-color1, white)));\n",
              "    --sklearn-color-background: var(--sg-background-color, var(--theme-background, var(--jp-layout-color0, #111)));\n",
              "    --sklearn-color-border-box: var(--sg-text-color, var(--theme-code-foreground, var(--jp-content-font-color1, white)));\n",
              "    --sklearn-color-icon: #878787;\n",
              "  }\n",
              "}\n",
              "\n",
              "#sk-container-id-2 {\n",
              "  color: var(--sklearn-color-text);\n",
              "}\n",
              "\n",
              "#sk-container-id-2 pre {\n",
              "  padding: 0;\n",
              "}\n",
              "\n",
              "#sk-container-id-2 input.sk-hidden--visually {\n",
              "  border: 0;\n",
              "  clip: rect(1px 1px 1px 1px);\n",
              "  clip: rect(1px, 1px, 1px, 1px);\n",
              "  height: 1px;\n",
              "  margin: -1px;\n",
              "  overflow: hidden;\n",
              "  padding: 0;\n",
              "  position: absolute;\n",
              "  width: 1px;\n",
              "}\n",
              "\n",
              "#sk-container-id-2 div.sk-dashed-wrapped {\n",
              "  border: 1px dashed var(--sklearn-color-line);\n",
              "  margin: 0 0.4em 0.5em 0.4em;\n",
              "  box-sizing: border-box;\n",
              "  padding-bottom: 0.4em;\n",
              "  background-color: var(--sklearn-color-background);\n",
              "}\n",
              "\n",
              "#sk-container-id-2 div.sk-container {\n",
              "  /* jupyter's `normalize.less` sets `[hidden] { display: none; }`\n",
              "     but bootstrap.min.css set `[hidden] { display: none !important; }`\n",
              "     so we also need the `!important` here to be able to override the\n",
              "     default hidden behavior on the sphinx rendered scikit-learn.org.\n",
              "     See: https://github.com/scikit-learn/scikit-learn/issues/21755 */\n",
              "  display: inline-block !important;\n",
              "  position: relative;\n",
              "}\n",
              "\n",
              "#sk-container-id-2 div.sk-text-repr-fallback {\n",
              "  display: none;\n",
              "}\n",
              "\n",
              "div.sk-parallel-item,\n",
              "div.sk-serial,\n",
              "div.sk-item {\n",
              "  /* draw centered vertical line to link estimators */\n",
              "  background-image: linear-gradient(var(--sklearn-color-text-on-default-background), var(--sklearn-color-text-on-default-background));\n",
              "  background-size: 2px 100%;\n",
              "  background-repeat: no-repeat;\n",
              "  background-position: center center;\n",
              "}\n",
              "\n",
              "/* Parallel-specific style estimator block */\n",
              "\n",
              "#sk-container-id-2 div.sk-parallel-item::after {\n",
              "  content: \"\";\n",
              "  width: 100%;\n",
              "  border-bottom: 2px solid var(--sklearn-color-text-on-default-background);\n",
              "  flex-grow: 1;\n",
              "}\n",
              "\n",
              "#sk-container-id-2 div.sk-parallel {\n",
              "  display: flex;\n",
              "  align-items: stretch;\n",
              "  justify-content: center;\n",
              "  background-color: var(--sklearn-color-background);\n",
              "  position: relative;\n",
              "}\n",
              "\n",
              "#sk-container-id-2 div.sk-parallel-item {\n",
              "  display: flex;\n",
              "  flex-direction: column;\n",
              "}\n",
              "\n",
              "#sk-container-id-2 div.sk-parallel-item:first-child::after {\n",
              "  align-self: flex-end;\n",
              "  width: 50%;\n",
              "}\n",
              "\n",
              "#sk-container-id-2 div.sk-parallel-item:last-child::after {\n",
              "  align-self: flex-start;\n",
              "  width: 50%;\n",
              "}\n",
              "\n",
              "#sk-container-id-2 div.sk-parallel-item:only-child::after {\n",
              "  width: 0;\n",
              "}\n",
              "\n",
              "/* Serial-specific style estimator block */\n",
              "\n",
              "#sk-container-id-2 div.sk-serial {\n",
              "  display: flex;\n",
              "  flex-direction: column;\n",
              "  align-items: center;\n",
              "  background-color: var(--sklearn-color-background);\n",
              "  padding-right: 1em;\n",
              "  padding-left: 1em;\n",
              "}\n",
              "\n",
              "\n",
              "/* Toggleable style: style used for estimator/Pipeline/ColumnTransformer box that is\n",
              "clickable and can be expanded/collapsed.\n",
              "- Pipeline and ColumnTransformer use this feature and define the default style\n",
              "- Estimators will overwrite some part of the style using the `sk-estimator` class\n",
              "*/\n",
              "\n",
              "/* Pipeline and ColumnTransformer style (default) */\n",
              "\n",
              "#sk-container-id-2 div.sk-toggleable {\n",
              "  /* Default theme specific background. It is overwritten whether we have a\n",
              "  specific estimator or a Pipeline/ColumnTransformer */\n",
              "  background-color: var(--sklearn-color-background);\n",
              "}\n",
              "\n",
              "/* Toggleable label */\n",
              "#sk-container-id-2 label.sk-toggleable__label {\n",
              "  cursor: pointer;\n",
              "  display: flex;\n",
              "  width: 100%;\n",
              "  margin-bottom: 0;\n",
              "  padding: 0.5em;\n",
              "  box-sizing: border-box;\n",
              "  text-align: center;\n",
              "  align-items: start;\n",
              "  justify-content: space-between;\n",
              "  gap: 0.5em;\n",
              "}\n",
              "\n",
              "#sk-container-id-2 label.sk-toggleable__label .caption {\n",
              "  font-size: 0.6rem;\n",
              "  font-weight: lighter;\n",
              "  color: var(--sklearn-color-text-muted);\n",
              "}\n",
              "\n",
              "#sk-container-id-2 label.sk-toggleable__label-arrow:before {\n",
              "  /* Arrow on the left of the label */\n",
              "  content: \"▸\";\n",
              "  float: left;\n",
              "  margin-right: 0.25em;\n",
              "  color: var(--sklearn-color-icon);\n",
              "}\n",
              "\n",
              "#sk-container-id-2 label.sk-toggleable__label-arrow:hover:before {\n",
              "  color: var(--sklearn-color-text);\n",
              "}\n",
              "\n",
              "/* Toggleable content - dropdown */\n",
              "\n",
              "#sk-container-id-2 div.sk-toggleable__content {\n",
              "  max-height: 0;\n",
              "  max-width: 0;\n",
              "  overflow: hidden;\n",
              "  text-align: left;\n",
              "  /* unfitted */\n",
              "  background-color: var(--sklearn-color-unfitted-level-0);\n",
              "}\n",
              "\n",
              "#sk-container-id-2 div.sk-toggleable__content.fitted {\n",
              "  /* fitted */\n",
              "  background-color: var(--sklearn-color-fitted-level-0);\n",
              "}\n",
              "\n",
              "#sk-container-id-2 div.sk-toggleable__content pre {\n",
              "  margin: 0.2em;\n",
              "  border-radius: 0.25em;\n",
              "  color: var(--sklearn-color-text);\n",
              "  /* unfitted */\n",
              "  background-color: var(--sklearn-color-unfitted-level-0);\n",
              "}\n",
              "\n",
              "#sk-container-id-2 div.sk-toggleable__content.fitted pre {\n",
              "  /* unfitted */\n",
              "  background-color: var(--sklearn-color-fitted-level-0);\n",
              "}\n",
              "\n",
              "#sk-container-id-2 input.sk-toggleable__control:checked~div.sk-toggleable__content {\n",
              "  /* Expand drop-down */\n",
              "  max-height: 200px;\n",
              "  max-width: 100%;\n",
              "  overflow: auto;\n",
              "}\n",
              "\n",
              "#sk-container-id-2 input.sk-toggleable__control:checked~label.sk-toggleable__label-arrow:before {\n",
              "  content: \"▾\";\n",
              "}\n",
              "\n",
              "/* Pipeline/ColumnTransformer-specific style */\n",
              "\n",
              "#sk-container-id-2 div.sk-label input.sk-toggleable__control:checked~label.sk-toggleable__label {\n",
              "  color: var(--sklearn-color-text);\n",
              "  background-color: var(--sklearn-color-unfitted-level-2);\n",
              "}\n",
              "\n",
              "#sk-container-id-2 div.sk-label.fitted input.sk-toggleable__control:checked~label.sk-toggleable__label {\n",
              "  background-color: var(--sklearn-color-fitted-level-2);\n",
              "}\n",
              "\n",
              "/* Estimator-specific style */\n",
              "\n",
              "/* Colorize estimator box */\n",
              "#sk-container-id-2 div.sk-estimator input.sk-toggleable__control:checked~label.sk-toggleable__label {\n",
              "  /* unfitted */\n",
              "  background-color: var(--sklearn-color-unfitted-level-2);\n",
              "}\n",
              "\n",
              "#sk-container-id-2 div.sk-estimator.fitted input.sk-toggleable__control:checked~label.sk-toggleable__label {\n",
              "  /* fitted */\n",
              "  background-color: var(--sklearn-color-fitted-level-2);\n",
              "}\n",
              "\n",
              "#sk-container-id-2 div.sk-label label.sk-toggleable__label,\n",
              "#sk-container-id-2 div.sk-label label {\n",
              "  /* The background is the default theme color */\n",
              "  color: var(--sklearn-color-text-on-default-background);\n",
              "}\n",
              "\n",
              "/* On hover, darken the color of the background */\n",
              "#sk-container-id-2 div.sk-label:hover label.sk-toggleable__label {\n",
              "  color: var(--sklearn-color-text);\n",
              "  background-color: var(--sklearn-color-unfitted-level-2);\n",
              "}\n",
              "\n",
              "/* Label box, darken color on hover, fitted */\n",
              "#sk-container-id-2 div.sk-label.fitted:hover label.sk-toggleable__label.fitted {\n",
              "  color: var(--sklearn-color-text);\n",
              "  background-color: var(--sklearn-color-fitted-level-2);\n",
              "}\n",
              "\n",
              "/* Estimator label */\n",
              "\n",
              "#sk-container-id-2 div.sk-label label {\n",
              "  font-family: monospace;\n",
              "  font-weight: bold;\n",
              "  display: inline-block;\n",
              "  line-height: 1.2em;\n",
              "}\n",
              "\n",
              "#sk-container-id-2 div.sk-label-container {\n",
              "  text-align: center;\n",
              "}\n",
              "\n",
              "/* Estimator-specific */\n",
              "#sk-container-id-2 div.sk-estimator {\n",
              "  font-family: monospace;\n",
              "  border: 1px dotted var(--sklearn-color-border-box);\n",
              "  border-radius: 0.25em;\n",
              "  box-sizing: border-box;\n",
              "  margin-bottom: 0.5em;\n",
              "  /* unfitted */\n",
              "  background-color: var(--sklearn-color-unfitted-level-0);\n",
              "}\n",
              "\n",
              "#sk-container-id-2 div.sk-estimator.fitted {\n",
              "  /* fitted */\n",
              "  background-color: var(--sklearn-color-fitted-level-0);\n",
              "}\n",
              "\n",
              "/* on hover */\n",
              "#sk-container-id-2 div.sk-estimator:hover {\n",
              "  /* unfitted */\n",
              "  background-color: var(--sklearn-color-unfitted-level-2);\n",
              "}\n",
              "\n",
              "#sk-container-id-2 div.sk-estimator.fitted:hover {\n",
              "  /* fitted */\n",
              "  background-color: var(--sklearn-color-fitted-level-2);\n",
              "}\n",
              "\n",
              "/* Specification for estimator info (e.g. \"i\" and \"?\") */\n",
              "\n",
              "/* Common style for \"i\" and \"?\" */\n",
              "\n",
              ".sk-estimator-doc-link,\n",
              "a:link.sk-estimator-doc-link,\n",
              "a:visited.sk-estimator-doc-link {\n",
              "  float: right;\n",
              "  font-size: smaller;\n",
              "  line-height: 1em;\n",
              "  font-family: monospace;\n",
              "  background-color: var(--sklearn-color-background);\n",
              "  border-radius: 1em;\n",
              "  height: 1em;\n",
              "  width: 1em;\n",
              "  text-decoration: none !important;\n",
              "  margin-left: 0.5em;\n",
              "  text-align: center;\n",
              "  /* unfitted */\n",
              "  border: var(--sklearn-color-unfitted-level-1) 1pt solid;\n",
              "  color: var(--sklearn-color-unfitted-level-1);\n",
              "}\n",
              "\n",
              ".sk-estimator-doc-link.fitted,\n",
              "a:link.sk-estimator-doc-link.fitted,\n",
              "a:visited.sk-estimator-doc-link.fitted {\n",
              "  /* fitted */\n",
              "  border: var(--sklearn-color-fitted-level-1) 1pt solid;\n",
              "  color: var(--sklearn-color-fitted-level-1);\n",
              "}\n",
              "\n",
              "/* On hover */\n",
              "div.sk-estimator:hover .sk-estimator-doc-link:hover,\n",
              ".sk-estimator-doc-link:hover,\n",
              "div.sk-label-container:hover .sk-estimator-doc-link:hover,\n",
              ".sk-estimator-doc-link:hover {\n",
              "  /* unfitted */\n",
              "  background-color: var(--sklearn-color-unfitted-level-3);\n",
              "  color: var(--sklearn-color-background);\n",
              "  text-decoration: none;\n",
              "}\n",
              "\n",
              "div.sk-estimator.fitted:hover .sk-estimator-doc-link.fitted:hover,\n",
              ".sk-estimator-doc-link.fitted:hover,\n",
              "div.sk-label-container:hover .sk-estimator-doc-link.fitted:hover,\n",
              ".sk-estimator-doc-link.fitted:hover {\n",
              "  /* fitted */\n",
              "  background-color: var(--sklearn-color-fitted-level-3);\n",
              "  color: var(--sklearn-color-background);\n",
              "  text-decoration: none;\n",
              "}\n",
              "\n",
              "/* Span, style for the box shown on hovering the info icon */\n",
              ".sk-estimator-doc-link span {\n",
              "  display: none;\n",
              "  z-index: 9999;\n",
              "  position: relative;\n",
              "  font-weight: normal;\n",
              "  right: .2ex;\n",
              "  padding: .5ex;\n",
              "  margin: .5ex;\n",
              "  width: min-content;\n",
              "  min-width: 20ex;\n",
              "  max-width: 50ex;\n",
              "  color: var(--sklearn-color-text);\n",
              "  box-shadow: 2pt 2pt 4pt #999;\n",
              "  /* unfitted */\n",
              "  background: var(--sklearn-color-unfitted-level-0);\n",
              "  border: .5pt solid var(--sklearn-color-unfitted-level-3);\n",
              "}\n",
              "\n",
              ".sk-estimator-doc-link.fitted span {\n",
              "  /* fitted */\n",
              "  background: var(--sklearn-color-fitted-level-0);\n",
              "  border: var(--sklearn-color-fitted-level-3);\n",
              "}\n",
              "\n",
              ".sk-estimator-doc-link:hover span {\n",
              "  display: block;\n",
              "}\n",
              "\n",
              "/* \"?\"-specific style due to the `<a>` HTML tag */\n",
              "\n",
              "#sk-container-id-2 a.estimator_doc_link {\n",
              "  float: right;\n",
              "  font-size: 1rem;\n",
              "  line-height: 1em;\n",
              "  font-family: monospace;\n",
              "  background-color: var(--sklearn-color-background);\n",
              "  border-radius: 1rem;\n",
              "  height: 1rem;\n",
              "  width: 1rem;\n",
              "  text-decoration: none;\n",
              "  /* unfitted */\n",
              "  color: var(--sklearn-color-unfitted-level-1);\n",
              "  border: var(--sklearn-color-unfitted-level-1) 1pt solid;\n",
              "}\n",
              "\n",
              "#sk-container-id-2 a.estimator_doc_link.fitted {\n",
              "  /* fitted */\n",
              "  border: var(--sklearn-color-fitted-level-1) 1pt solid;\n",
              "  color: var(--sklearn-color-fitted-level-1);\n",
              "}\n",
              "\n",
              "/* On hover */\n",
              "#sk-container-id-2 a.estimator_doc_link:hover {\n",
              "  /* unfitted */\n",
              "  background-color: var(--sklearn-color-unfitted-level-3);\n",
              "  color: var(--sklearn-color-background);\n",
              "  text-decoration: none;\n",
              "}\n",
              "\n",
              "#sk-container-id-2 a.estimator_doc_link.fitted:hover {\n",
              "  /* fitted */\n",
              "  background-color: var(--sklearn-color-fitted-level-3);\n",
              "}\n",
              "</style><div id=\"sk-container-id-2\" class=\"sk-top-container\"><div class=\"sk-text-repr-fallback\"><pre>MultiOutputClassifier(estimator=LogisticRegression(max_iter=1000))</pre><b>In a Jupyter environment, please rerun this cell to show the HTML representation or trust the notebook. <br />On GitHub, the HTML representation is unable to render, please try loading this page with nbviewer.org.</b></div><div class=\"sk-container\" hidden><div class=\"sk-item sk-dashed-wrapped\"><div class=\"sk-label-container\"><div class=\"sk-label fitted sk-toggleable\"><input class=\"sk-toggleable__control sk-hidden--visually\" id=\"sk-estimator-id-4\" type=\"checkbox\" ><label for=\"sk-estimator-id-4\" class=\"sk-toggleable__label fitted sk-toggleable__label-arrow\"><div><div>MultiOutputClassifier</div></div><div><a class=\"sk-estimator-doc-link fitted\" rel=\"noreferrer\" target=\"_blank\" href=\"https://scikit-learn.org/1.6/modules/generated/sklearn.multioutput.MultiOutputClassifier.html\">?<span>Documentation for MultiOutputClassifier</span></a><span class=\"sk-estimator-doc-link fitted\">i<span>Fitted</span></span></div></label><div class=\"sk-toggleable__content fitted\"><pre>MultiOutputClassifier(estimator=LogisticRegression(max_iter=1000))</pre></div> </div></div><div class=\"sk-parallel\"><div class=\"sk-parallel-item\"><div class=\"sk-item\"><div class=\"sk-label-container\"><div class=\"sk-label fitted sk-toggleable\"><input class=\"sk-toggleable__control sk-hidden--visually\" id=\"sk-estimator-id-5\" type=\"checkbox\" ><label for=\"sk-estimator-id-5\" class=\"sk-toggleable__label fitted sk-toggleable__label-arrow\"><div><div>estimator: LogisticRegression</div></div></label><div class=\"sk-toggleable__content fitted\"><pre>LogisticRegression(max_iter=1000)</pre></div> </div></div><div class=\"sk-serial\"><div class=\"sk-item\"><div class=\"sk-estimator fitted sk-toggleable\"><input class=\"sk-toggleable__control sk-hidden--visually\" id=\"sk-estimator-id-6\" type=\"checkbox\" ><label for=\"sk-estimator-id-6\" class=\"sk-toggleable__label fitted sk-toggleable__label-arrow\"><div><div>LogisticRegression</div></div><div><a class=\"sk-estimator-doc-link fitted\" rel=\"noreferrer\" target=\"_blank\" href=\"https://scikit-learn.org/1.6/modules/generated/sklearn.linear_model.LogisticRegression.html\">?<span>Documentation for LogisticRegression</span></a></div></label><div class=\"sk-toggleable__content fitted\"><pre>LogisticRegression(max_iter=1000)</pre></div> </div></div></div></div></div></div></div></div></div>"
            ],
            "text/plain": [
              "MultiOutputClassifier(estimator=LogisticRegression(max_iter=1000))"
            ]
          },
          "execution_count": 132,
          "metadata": {},
          "output_type": "execute_result"
        }
      ],
      "source": [
        "# Multi-output classification with Logistic Regression\n",
        "base_model = LogisticRegression(max_iter=1000)\n",
        "multi_model = MultiOutputClassifier(base_model)\n",
        "multi_model.fit(X_train, Y_train)"
      ]
    },
    {
      "cell_type": "code",
      "execution_count": null,
      "metadata": {},
      "outputs": [],
      "source": []
    },
    {
      "cell_type": "code",
      "execution_count": 133,
      "metadata": {},
      "outputs": [
        {
          "name": "stdout",
          "output_type": "stream",
          "text": [
            "✅ Model, vectorizer, and label list saved successfully!\n"
          ]
        }
      ],
      "source": [
        "# Save model and vectorizer\n",
        "joblib.dump(multi_model, 'model.pkl')\n",
        "joblib.dump(vectorizer, 'tfidf_vectorizer.pkl')\n",
        "joblib.dump(label_cols, 'multi_output_labels.pkl')\n",
        "\n",
        "print(\"✅ Model, vectorizer, and label list saved successfully!\")"
      ]
    },
    {
      "cell_type": "code",
      "execution_count": 69,
      "metadata": {
        "id": "FawvCnewwyFL"
      },
      "outputs": [],
      "source": [
        "import pandas as pd\n",
        "import re\n",
        "import nltk\n",
        "import joblib"
      ]
    },
    {
      "cell_type": "code",
      "execution_count": 70,
      "metadata": {
        "id": "itCjvllfwyFL"
      },
      "outputs": [
        {
          "data": {
            "text/plain": [
              "['model.pkl']"
            ]
          },
          "execution_count": 70,
          "metadata": {},
          "output_type": "execute_result"
        }
      ],
      "source": [
        "#save everything\n",
        "joblib.dump(model, 'model.pkl')"
      ]
    },
    {
      "cell_type": "code",
      "execution_count": 71,
      "metadata": {
        "id": "4lpl88LvwyFM"
      },
      "outputs": [
        {
          "data": {
            "text/plain": [
              "['tfidf_vectorizer.pkl']"
            ]
          },
          "execution_count": 71,
          "metadata": {},
          "output_type": "execute_result"
        }
      ],
      "source": [
        "joblib.dump(vectorizer, 'tfidf_vectorizer.pkl')"
      ]
    },
    {
      "cell_type": "code",
      "execution_count": 72,
      "metadata": {
        "id": "1I-TpQIVwyFM"
      },
      "outputs": [
        {
          "data": {
            "text/plain": [
              "['multi_output_labels.pkl']"
            ]
          },
          "execution_count": 72,
          "metadata": {},
          "output_type": "execute_result"
        }
      ],
      "source": [
        "joblib.dump(Y.columns.to_list(), 'multi_output_labels.pkl')"
      ]
    },
    {
      "cell_type": "code",
      "execution_count": 914,
      "metadata": {
        "id": "FcAHR8uowyFN"
      },
      "outputs": [],
      "source": [
        "# df"
      ]
    },
    {
      "cell_type": "code",
      "execution_count": 914,
      "metadata": {
        "id": "AWUpSeOLwyFO"
      },
      "outputs": [],
      "source": []
    },
    {
      "cell_type": "code",
      "execution_count": 914,
      "metadata": {
        "id": "J604btGYwyFO"
      },
      "outputs": [],
      "source": []
    },
    {
      "cell_type": "code",
      "execution_count": 914,
      "metadata": {
        "id": "upp89RwYwyFO"
      },
      "outputs": [],
      "source": []
    },
    {
      "cell_type": "code",
      "execution_count": 914,
      "metadata": {
        "id": "S460NuZowyFO"
      },
      "outputs": [],
      "source": []
    },
    {
      "cell_type": "code",
      "execution_count": 914,
      "metadata": {
        "id": "l32EH2s0wyFP"
      },
      "outputs": [],
      "source": []
    },
    {
      "cell_type": "code",
      "execution_count": 914,
      "metadata": {
        "id": "hDoAhgRAwyFP"
      },
      "outputs": [],
      "source": []
    },
    {
      "cell_type": "code",
      "execution_count": 914,
      "metadata": {
        "id": "30YhdszJwyFP"
      },
      "outputs": [],
      "source": []
    },
    {
      "cell_type": "code",
      "execution_count": 914,
      "metadata": {
        "id": "Fr8xpOOxwyFP"
      },
      "outputs": [],
      "source": []
    },
    {
      "cell_type": "code",
      "execution_count": 914,
      "metadata": {
        "id": "8P0YHJKfwyFQ"
      },
      "outputs": [],
      "source": []
    },
    {
      "cell_type": "code",
      "execution_count": 915,
      "metadata": {
        "id": "YdTQHeV3Bikm"
      },
      "outputs": [],
      "source": [
        "# Create a list of column names you want to select for X\n",
        "# feature_columns = ['clean_summary', 'clean_issue_type', 'clean_status', 'clean_project_name', 'clean_project_type', 'clean_priority']\n",
        "\n",
        "# Select the columns from the DataFrame using the list\n",
        "# X = df[feature_columns]"
      ]
    },
    {
      "cell_type": "code",
      "execution_count": 915,
      "metadata": {
        "id": "0BVa0U-WHO8D"
      },
      "outputs": [],
      "source": []
    },
    {
      "cell_type": "code",
      "execution_count": 916,
      "metadata": {
        "id": "p6Ofa7rRKMvJ"
      },
      "outputs": [],
      "source": [
        "# import pandas as pd\n",
        "# from sklearn.feature_extraction.text import TfidfVectorizer\n",
        "# from sklearn.preprocessing import LabelEncoder\n",
        "# from sklearn.model_selection import train_test_split\n",
        "# from sklearn.ensemble import RandomForestClassifier\n",
        "# from sklearn.metrics import classification_report\n",
        "# from sklearn.compose import ColumnTransformer\n",
        "# from sklearn.pipeline import Pipeline\n",
        "# from sklearn.impute import SimpleImputer"
      ]
    },
    {
      "cell_type": "code",
      "execution_count": 917,
      "metadata": {
        "id": "-rpmwj-cKG8R"
      },
      "outputs": [],
      "source": [
        "# # Text Vectorizer for 'Summary'\n",
        "# tfidf = TfidfVectorizer(max_features=300)"
      ]
    },
    {
      "cell_type": "code",
      "execution_count": 918,
      "metadata": {
        "id": "aLbN9WZzKPcT"
      },
      "outputs": [],
      "source": [
        "# # LabelEncoders for categorical features\n",
        "# categorical_features = ['clean_issue_type', 'clean_status', 'clean_project_name', 'clean_project_type', 'clean_priority']\n",
        "# label_encoders = {col: LabelEncoder() for col in categorical_features}\n",
        "# for col in categorical_features:\n",
        "#     X[col] = label_encoders[col].fit_transform(X[col])\n"
      ]
    },
    {
      "cell_type": "markdown",
      "metadata": {
        "id": "ovHZvRrJKs-4"
      },
      "source": []
    },
    {
      "cell_type": "code",
      "execution_count": 919,
      "metadata": {
        "id": "yExX61pqKPTC"
      },
      "outputs": [],
      "source": [
        "# # Transform 'Summary' to TF-IDF matrix\n",
        "# X_summary_tfidf = tfidf.fit_transform(X[\"clean_summary\"])"
      ]
    },
    {
      "cell_type": "code",
      "execution_count": 920,
      "metadata": {
        "id": "nLdn1NN_KPMi"
      },
      "outputs": [],
      "source": [
        "# # Concatenate TF-IDF with other numerical features\n",
        "# X_cat = X[categorical_features].values"
      ]
    },
    {
      "cell_type": "code",
      "execution_count": 921,
      "metadata": {
        "id": "CRb_1wXglfQM"
      },
      "outputs": [],
      "source": [
        "# X_cat"
      ]
    },
    {
      "cell_type": "code",
      "execution_count": 922,
      "metadata": {
        "id": "jWypgyetK6DG"
      },
      "outputs": [],
      "source": [
        "# X_summary_tfidf"
      ]
    },
    {
      "cell_type": "code",
      "execution_count": 923,
      "metadata": {
        "id": "CmWAdFjylivB"
      },
      "outputs": [],
      "source": [
        "# import scipy\n",
        "# X_final = scipy.sparse.hstack([X_summary_tfidf, X_cat])"
      ]
    },
    {
      "cell_type": "code",
      "execution_count": 924,
      "metadata": {
        "id": "Cy2zr9YAFkKU"
      },
      "outputs": [],
      "source": [
        "# # Split data into training and testing sets\n",
        "# from sklearn.model_selection import train_test_split\n",
        "# X_train, X_test, y_train, y_test = train_test_split(X_final, y, test_size=0.2, random_state=42)"
      ]
    },
    {
      "cell_type": "code",
      "execution_count": 925,
      "metadata": {
        "id": "oApJGJYBLJb3"
      },
      "outputs": [],
      "source": [
        "# # 🎯 Train a model\n",
        "# model = RandomForestClassifier()\n",
        "# model.fit(X_train, y_train)"
      ]
    },
    {
      "cell_type": "code",
      "execution_count": 926,
      "metadata": {
        "id": "XO4SBaaoLM4_"
      },
      "outputs": [],
      "source": [
        "# # 📈 Evaluate\n",
        "# y_pred = model.predict(X_test)\n",
        "# print(classification_report(y_test, y_pred))"
      ]
    },
    {
      "cell_type": "code",
      "execution_count": 927,
      "metadata": {
        "id": "GkSZgyHZLgg5"
      },
      "outputs": [],
      "source": [
        "# from sklearn.metrics import accuracy_score, classification_report\n"
      ]
    },
    {
      "cell_type": "code",
      "execution_count": 928,
      "metadata": {
        "id": "5c2T1voyluof"
      },
      "outputs": [],
      "source": [
        "# # ✅ Accuracy score\n",
        "# accuracy = accuracy_score(y_test, y_pred)\n",
        "# print(\"✅ Model Accuracy:\", round(accuracy * 100, 2), \"%\")\n",
        "\n",
        "# # 📋 Detailed Report\n",
        "# print(\"\\n📊 Classification Report:\\n\", classification_report(y_test, y_pred))"
      ]
    },
    {
      "cell_type": "code",
      "execution_count": 929,
      "metadata": {
        "id": "5LtBEN8gNBdL"
      },
      "outputs": [],
      "source": [
        "# import numpy as np"
      ]
    },
    {
      "cell_type": "code",
      "execution_count": 930,
      "metadata": {
        "id": "Q5iWdqtxM_0h"
      },
      "outputs": [],
      "source": [
        "# from sklearn.utils import class_weight\n",
        "# class_weights = class_weight.compute_class_weight('balanced', classes=np.unique(y_train), y=y_train)\n"
      ]
    },
    {
      "cell_type": "code",
      "execution_count": 931,
      "metadata": {
        "id": "YM4EPhhHM_xF"
      },
      "outputs": [],
      "source": [
        "# from sklearn.model_selection import GridSearchCV\n",
        "\n",
        "# params = {\n",
        "#     'n_estimators': [100, 200],\n",
        "#     'max_depth': [5, 10, None],\n",
        "#     'min_samples_split': [2, 5]\n",
        "# }\n",
        "\n",
        "# grid = GridSearchCV(RandomForestClassifier(), params, cv=5, scoring='accuracy')\n",
        "# grid.fit(X_train, y_train)\n",
        "# print(\"Best Score:\", grid.best_score_)\n"
      ]
    },
    {
      "cell_type": "code",
      "execution_count": 931,
      "metadata": {
        "id": "BxQDuROcDo4X"
      },
      "outputs": [],
      "source": []
    }
  ],
  "metadata": {
    "colab": {
      "provenance": []
    },
    "kernelspec": {
      "display_name": "Python 3",
      "name": "python3"
    },
    "language_info": {
      "codemirror_mode": {
        "name": "ipython",
        "version": 3
      },
      "file_extension": ".py",
      "mimetype": "text/x-python",
      "name": "python",
      "nbconvert_exporter": "python",
      "pygments_lexer": "ipython3",
      "version": "3.12.10"
    }
  },
  "nbformat": 4,
  "nbformat_minor": 0
}
